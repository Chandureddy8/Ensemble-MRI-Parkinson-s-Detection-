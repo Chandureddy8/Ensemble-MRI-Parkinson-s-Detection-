{
  "nbformat": 4,
  "nbformat_minor": 5,
  "metadata": {
    "accelerator": "GPU",
    "colab": {
      "name": "Ensembel_Deep_parkinson's_vgg19-xceptionipynb",
      "provenance": [],
      "collapsed_sections": []
    },
    "kernelspec": {
      "display_name": "Python 3",
      "language": "python",
      "name": "python3"
    },
    "language_info": {
      "codemirror_mode": {
        "name": "ipython",
        "version": 3
      },
      "file_extension": ".py",
      "mimetype": "text/x-python",
      "name": "python",
      "nbconvert_exporter": "python",
      "pygments_lexer": "ipython3",
      "version": "3.8.10"
    }
  },
  "cells": [
    {
      "cell_type": "markdown",
      "metadata": {
        "id": "vBi7p6G9PVPs"
      },
      "source": [
        "# Ensembling VGG19-Xception"
      ],
      "id": "vBi7p6G9PVPs"
    },
    {
      "cell_type": "code",
      "metadata": {
        "colab": {
          "base_uri": "https://localhost:8080/"
        },
        "id": "bRC_8gNkPA27",
        "outputId": "e435f4eb-bf76-49b8-ed37-3f240b6f80a9"
      },
      "source": [
        "from google.colab import drive\n",
        "drive.mount('/content/drive')"
      ],
      "id": "bRC_8gNkPA27",
      "execution_count": null,
      "outputs": [
        {
          "output_type": "stream",
          "text": [
            "Drive already mounted at /content/drive; to attempt to forcibly remount, call drive.mount(\"/content/drive\", force_remount=True).\n"
          ],
          "name": "stdout"
        }
      ]
    },
    {
      "cell_type": "markdown",
      "metadata": {
        "id": "mKMZipjyPefp"
      },
      "source": [
        "**Load Images**"
      ],
      "id": "mKMZipjyPefp"
    },
    {
      "cell_type": "code",
      "metadata": {
        "id": "b3d197f0"
      },
      "source": [
        "import os\n",
        "import numpy as np\n",
        "import matplotlib.pyplot as plt"
      ],
      "id": "b3d197f0",
      "execution_count": null,
      "outputs": []
    },
    {
      "cell_type": "code",
      "metadata": {
        "id": "4a7b5675"
      },
      "source": [
        "images = \"/content/drive/MyDrive/parkinsons t2/train\""
      ],
      "id": "4a7b5675",
      "execution_count": null,
      "outputs": []
    },
    {
      "cell_type": "code",
      "metadata": {
        "colab": {
          "base_uri": "https://localhost:8080/"
        },
        "id": "26895b69",
        "outputId": "333e2a10-2665-4b41-ac9b-a678cd36e956"
      },
      "source": [
        "folders = os.listdir(images)\n",
        "print(folders)"
      ],
      "id": "26895b69",
      "execution_count": null,
      "outputs": [
        {
          "output_type": "stream",
          "text": [
            "['pd', 'control']\n"
          ],
          "name": "stdout"
        }
      ]
    },
    {
      "cell_type": "code",
      "metadata": {
        "id": "deddbc84"
      },
      "source": [
        "image_data = []\n",
        "labels = []"
      ],
      "id": "deddbc84",
      "execution_count": null,
      "outputs": []
    },
    {
      "cell_type": "code",
      "metadata": {
        "id": "8113a687"
      },
      "source": [
        "label_dict = {\n",
        "    'control':0,\n",
        "    'pd':1\n",
        "}"
      ],
      "id": "8113a687",
      "execution_count": null,
      "outputs": []
    },
    {
      "cell_type": "code",
      "metadata": {
        "id": "dfcb2ca8"
      },
      "source": [
        "from keras.preprocessing import image\n",
        "\n",
        "for ix in folders:\n",
        "    path = os.path.join(images,ix)\n",
        "    for im in os.listdir(path):\n",
        "        img = image.load_img(os.path.join(path,im),target_size = ((512,512)))\n",
        "        img_array = image.img_to_array(img)\n",
        "        image_data.append(img_array)\n",
        "        labels.append(label_dict[ix])\n",
        "    "
      ],
      "id": "dfcb2ca8",
      "execution_count": null,
      "outputs": []
    },
    {
      "cell_type": "code",
      "metadata": {
        "colab": {
          "base_uri": "https://localhost:8080/"
        },
        "id": "66cf0d25",
        "outputId": "678f73b5-5a92-4c6d-cbb1-63ce2a1ad9f0"
      },
      "source": [
        "print(len(image_data),len(labels))"
      ],
      "id": "66cf0d25",
      "execution_count": null,
      "outputs": [
        {
          "output_type": "stream",
          "text": [
            "1040 1040\n"
          ],
          "name": "stdout"
        }
      ]
    },
    {
      "cell_type": "code",
      "metadata": {
        "id": "10a264ab"
      },
      "source": [
        "combined = list(zip(image_data,labels))\n",
        "image_data[:],labels[:] = zip(*combined)"
      ],
      "id": "10a264ab",
      "execution_count": null,
      "outputs": []
    },
    {
      "cell_type": "code",
      "metadata": {
        "colab": {
          "base_uri": "https://localhost:8080/"
        },
        "id": "5dfdc4d6",
        "outputId": "cc59f330-49f1-4a33-f0f9-eff1766a4b36"
      },
      "source": [
        "print(labels)"
      ],
      "id": "5dfdc4d6",
      "execution_count": null,
      "outputs": [
        {
          "output_type": "stream",
          "text": [
            "[1, 1, 1, 1, 1, 1, 1, 1, 1, 1, 1, 1, 1, 1, 1, 1, 1, 1, 1, 1, 1, 1, 1, 1, 1, 1, 1, 1, 1, 1, 1, 1, 1, 1, 1, 1, 1, 1, 1, 1, 1, 1, 1, 1, 1, 1, 1, 1, 1, 1, 1, 1, 1, 1, 1, 1, 1, 1, 1, 1, 1, 1, 1, 1, 1, 1, 1, 1, 1, 1, 1, 1, 1, 1, 1, 1, 1, 1, 1, 1, 1, 1, 1, 1, 1, 1, 1, 1, 1, 1, 1, 1, 1, 1, 1, 1, 1, 1, 1, 1, 1, 1, 1, 1, 1, 1, 1, 1, 1, 1, 1, 1, 1, 1, 1, 1, 1, 1, 1, 1, 1, 1, 1, 1, 1, 1, 1, 1, 1, 1, 1, 1, 1, 1, 1, 1, 1, 1, 1, 1, 1, 1, 1, 1, 1, 1, 1, 1, 1, 1, 1, 1, 1, 1, 1, 1, 1, 1, 1, 1, 1, 1, 1, 1, 1, 1, 1, 1, 1, 1, 1, 1, 1, 1, 1, 1, 1, 1, 1, 1, 1, 1, 1, 1, 1, 1, 1, 1, 1, 1, 1, 1, 1, 1, 1, 1, 1, 1, 1, 1, 1, 1, 1, 1, 1, 1, 1, 1, 1, 1, 1, 1, 1, 1, 1, 1, 1, 1, 1, 1, 1, 1, 1, 1, 1, 1, 1, 1, 1, 1, 1, 1, 1, 1, 1, 1, 1, 1, 1, 1, 1, 1, 1, 1, 1, 1, 1, 1, 1, 1, 1, 1, 1, 1, 1, 1, 1, 1, 1, 1, 1, 1, 1, 1, 1, 1, 1, 1, 1, 1, 1, 1, 1, 1, 1, 1, 1, 1, 1, 1, 1, 1, 1, 1, 1, 1, 1, 1, 1, 1, 1, 1, 1, 1, 1, 1, 1, 1, 1, 1, 1, 1, 1, 1, 1, 1, 1, 1, 1, 1, 1, 1, 1, 1, 1, 1, 1, 1, 1, 1, 1, 1, 1, 1, 1, 1, 1, 1, 1, 1, 1, 1, 1, 1, 1, 1, 1, 1, 1, 1, 1, 1, 1, 1, 1, 1, 1, 1, 1, 1, 1, 1, 1, 1, 1, 1, 1, 1, 1, 1, 1, 1, 1, 1, 1, 1, 1, 1, 1, 1, 1, 1, 1, 1, 1, 1, 1, 1, 1, 1, 1, 1, 1, 1, 1, 1, 1, 1, 1, 1, 1, 1, 1, 1, 1, 1, 1, 1, 1, 1, 1, 1, 1, 1, 1, 1, 1, 1, 1, 1, 1, 1, 1, 1, 1, 1, 1, 1, 1, 1, 1, 1, 1, 1, 1, 1, 1, 1, 1, 1, 1, 1, 1, 1, 1, 1, 1, 1, 1, 1, 1, 1, 1, 1, 1, 1, 1, 1, 1, 1, 1, 1, 1, 1, 1, 1, 1, 1, 1, 1, 1, 1, 1, 1, 1, 1, 1, 1, 1, 1, 1, 1, 1, 1, 1, 1, 1, 1, 1, 1, 1, 1, 1, 1, 1, 1, 1, 1, 1, 1, 1, 1, 1, 1, 1, 1, 1, 1, 1, 1, 1, 1, 1, 1, 1, 1, 1, 1, 1, 1, 1, 1, 1, 1, 1, 1, 1, 1, 1, 1, 0, 0, 0, 0, 0, 0, 0, 0, 0, 0, 0, 0, 0, 0, 0, 0, 0, 0, 0, 0, 0, 0, 0, 0, 0, 0, 0, 0, 0, 0, 0, 0, 0, 0, 0, 0, 0, 0, 0, 0, 0, 0, 0, 0, 0, 0, 0, 0, 0, 0, 0, 0, 0, 0, 0, 0, 0, 0, 0, 0, 0, 0, 0, 0, 0, 0, 0, 0, 0, 0, 0, 0, 0, 0, 0, 0, 0, 0, 0, 0, 0, 0, 0, 0, 0, 0, 0, 0, 0, 0, 0, 0, 0, 0, 0, 0, 0, 0, 0, 0, 0, 0, 0, 0, 0, 0, 0, 0, 0, 0, 0, 0, 0, 0, 0, 0, 0, 0, 0, 0, 0, 0, 0, 0, 0, 0, 0, 0, 0, 0, 0, 0, 0, 0, 0, 0, 0, 0, 0, 0, 0, 0, 0, 0, 0, 0, 0, 0, 0, 0, 0, 0, 0, 0, 0, 0, 0, 0, 0, 0, 0, 0, 0, 0, 0, 0, 0, 0, 0, 0, 0, 0, 0, 0, 0, 0, 0, 0, 0, 0, 0, 0, 0, 0, 0, 0, 0, 0, 0, 0, 0, 0, 0, 0, 0, 0, 0, 0, 0, 0, 0, 0, 0, 0, 0, 0, 0, 0, 0, 0, 0, 0, 0, 0, 0, 0, 0, 0, 0, 0, 0, 0, 0, 0, 0, 0, 0, 0, 0, 0, 0, 0, 0, 0, 0, 0, 0, 0, 0, 0, 0, 0, 0, 0, 0, 0, 0, 0, 0, 0, 0, 0, 0, 0, 0, 0, 0, 0, 0, 0, 0, 0, 0, 0, 0, 0, 0, 0, 0, 0, 0, 0, 0, 0, 0, 0, 0, 0, 0, 0, 0, 0, 0, 0, 0, 0, 0, 0, 0, 0, 0, 0, 0, 0, 0, 0, 0, 0, 0, 0, 0, 0, 0, 0, 0, 0, 0, 0, 0, 0, 0, 0, 0, 0, 0, 0, 0, 0, 0, 0, 0, 0, 0, 0, 0, 0, 0, 0, 0, 0, 0, 0, 0, 0, 0, 0, 0, 0, 0, 0, 0, 0, 0, 0, 0, 0, 0, 0, 0, 0, 0, 0, 0, 0, 0, 0, 0, 0, 0, 0, 0, 0, 0, 0, 0, 0, 0, 0, 0, 0, 0, 0, 0, 0, 0, 0, 0, 0, 0, 0, 0, 0, 0, 0, 0, 0, 0, 0, 0, 0, 0, 0, 0, 0, 0, 0, 0, 0, 0, 0, 0, 0, 0, 0, 0, 0, 0, 0, 0, 0, 0, 0, 0, 0, 0, 0, 0, 0, 0, 0, 0, 0, 0, 0, 0, 0, 0, 0, 0, 0, 0, 0, 0, 0, 0, 0, 0, 0, 0, 0, 0, 0, 0, 0, 0, 0, 0, 0, 0, 0, 0, 0, 0, 0, 0, 0, 0, 0, 0, 0, 0, 0, 0, 0, 0, 0, 0, 0, 0, 0, 0, 0, 0, 0, 0, 0, 0, 0, 0, 0, 0, 0, 0, 0, 0, 0, 0, 0, 0, 0, 0, 0, 0, 0, 0, 0, 0, 0, 0, 0, 0, 0, 0, 0, 0, 0, 0, 0, 0, 0, 0, 0, 0, 0, 0, 0, 0, 0, 0, 0]\n"
          ],
          "name": "stdout"
        }
      ]
    },
    {
      "cell_type": "code",
      "metadata": {
        "colab": {
          "base_uri": "https://localhost:8080/"
        },
        "id": "d20c7dcf",
        "outputId": "cb99552b-b965-4d4e-bc51-567ca6ffc09c"
      },
      "source": [
        "x_train = np.array(image_data)\n",
        "y_train = np.array(labels)\n",
        "\n",
        "print(x_train.shape,y_train.shape)"
      ],
      "id": "d20c7dcf",
      "execution_count": null,
      "outputs": [
        {
          "output_type": "stream",
          "text": [
            "(1040, 512, 512, 3) (1040,)\n"
          ],
          "name": "stdout"
        }
      ]
    },
    {
      "cell_type": "code",
      "metadata": {
        "colab": {
          "base_uri": "https://localhost:8080/"
        },
        "id": "6a6555eb",
        "outputId": "8fa09617-a2e2-44d6-cddb-50c9d140b530"
      },
      "source": [
        "from keras.utils import np_utils\n",
        "\n",
        "y_train = np_utils.to_categorical(y_train)\n",
        "print(x_train.shape,y_train.shape)"
      ],
      "id": "6a6555eb",
      "execution_count": null,
      "outputs": [
        {
          "output_type": "stream",
          "text": [
            "(1040, 512, 512, 3) (1040, 2)\n"
          ],
          "name": "stdout"
        }
      ]
    },
    {
      "cell_type": "code",
      "metadata": {
        "id": "YUpLVIRqfNBG"
      },
      "source": [
        "from keras.preprocessing.image import ImageDataGenerator"
      ],
      "id": "YUpLVIRqfNBG",
      "execution_count": null,
      "outputs": []
    },
    {
      "cell_type": "markdown",
      "metadata": {
        "id": "Enapt1CBPrKZ"
      },
      "source": [
        "**Data Augmentation**\n"
      ],
      "id": "Enapt1CBPrKZ"
    },
    {
      "cell_type": "code",
      "metadata": {
        "id": "Z_JTSbpNdtFW"
      },
      "source": [
        "augment = ImageDataGenerator( \n",
        "                             rotation_range=20,\n",
        "                              width_shift_range=0.01, \n",
        "                              height_shift_range=0.01, \n",
        "                              horizontal_flip=False, \n",
        "                              vertical_flip=False,\n",
        "                            )\n",
        "augment.fit(x_train)"
      ],
      "id": "Z_JTSbpNdtFW",
      "execution_count": null,
      "outputs": []
    },
    {
      "cell_type": "code",
      "metadata": {
        "id": "ad27c22e"
      },
      "source": [
        "from tensorflow.keras.applications.vgg19 import VGG19\n",
        "from tensorflow.keras.optimizers import Adam\n",
        "from tensorflow.keras.layers import *\n",
        "from tensorflow.keras.models import Model\n",
        "from tensorflow.keras.regularizers import l2"
      ],
      "id": "ad27c22e",
      "execution_count": null,
      "outputs": []
    },
    {
      "cell_type": "markdown",
      "metadata": {
        "id": "u6IX9yVYPwgE"
      },
      "source": [
        "**Load VGG19 Model**"
      ],
      "id": "u6IX9yVYPwgE"
    },
    {
      "cell_type": "code",
      "metadata": {
        "id": "fda6ae56"
      },
      "source": [
        "model = VGG19(include_top = False,weights = 'imagenet',input_shape = (512,512,3))"
      ],
      "id": "fda6ae56",
      "execution_count": null,
      "outputs": []
    },
    {
      "cell_type": "code",
      "metadata": {
        "colab": {
          "base_uri": "https://localhost:8080/"
        },
        "id": "27acae2c",
        "outputId": "3b4e7135-7446-4b2b-c389-0011cf7c9ba2"
      },
      "source": [
        "model.summary()"
      ],
      "id": "27acae2c",
      "execution_count": null,
      "outputs": [
        {
          "output_type": "stream",
          "text": [
            "Model: \"vgg19\"\n",
            "_________________________________________________________________\n",
            "Layer (type)                 Output Shape              Param #   \n",
            "=================================================================\n",
            "input_4 (InputLayer)         [(None, 512, 512, 3)]     0         \n",
            "_________________________________________________________________\n",
            "block1_conv1 (Conv2D)        (None, 512, 512, 64)      1792      \n",
            "_________________________________________________________________\n",
            "block1_conv2 (Conv2D)        (None, 512, 512, 64)      36928     \n",
            "_________________________________________________________________\n",
            "block1_pool (MaxPooling2D)   (None, 256, 256, 64)      0         \n",
            "_________________________________________________________________\n",
            "block2_conv1 (Conv2D)        (None, 256, 256, 128)     73856     \n",
            "_________________________________________________________________\n",
            "block2_conv2 (Conv2D)        (None, 256, 256, 128)     147584    \n",
            "_________________________________________________________________\n",
            "block2_pool (MaxPooling2D)   (None, 128, 128, 128)     0         \n",
            "_________________________________________________________________\n",
            "block3_conv1 (Conv2D)        (None, 128, 128, 256)     295168    \n",
            "_________________________________________________________________\n",
            "block3_conv2 (Conv2D)        (None, 128, 128, 256)     590080    \n",
            "_________________________________________________________________\n",
            "block3_conv3 (Conv2D)        (None, 128, 128, 256)     590080    \n",
            "_________________________________________________________________\n",
            "block3_conv4 (Conv2D)        (None, 128, 128, 256)     590080    \n",
            "_________________________________________________________________\n",
            "block3_pool (MaxPooling2D)   (None, 64, 64, 256)       0         \n",
            "_________________________________________________________________\n",
            "block4_conv1 (Conv2D)        (None, 64, 64, 512)       1180160   \n",
            "_________________________________________________________________\n",
            "block4_conv2 (Conv2D)        (None, 64, 64, 512)       2359808   \n",
            "_________________________________________________________________\n",
            "block4_conv3 (Conv2D)        (None, 64, 64, 512)       2359808   \n",
            "_________________________________________________________________\n",
            "block4_conv4 (Conv2D)        (None, 64, 64, 512)       2359808   \n",
            "_________________________________________________________________\n",
            "block4_pool (MaxPooling2D)   (None, 32, 32, 512)       0         \n",
            "_________________________________________________________________\n",
            "block5_conv1 (Conv2D)        (None, 32, 32, 512)       2359808   \n",
            "_________________________________________________________________\n",
            "block5_conv2 (Conv2D)        (None, 32, 32, 512)       2359808   \n",
            "_________________________________________________________________\n",
            "block5_conv3 (Conv2D)        (None, 32, 32, 512)       2359808   \n",
            "_________________________________________________________________\n",
            "block5_conv4 (Conv2D)        (None, 32, 32, 512)       2359808   \n",
            "_________________________________________________________________\n",
            "block5_pool (MaxPooling2D)   (None, 16, 16, 512)       0         \n",
            "=================================================================\n",
            "Total params: 20,024,384\n",
            "Trainable params: 20,024,384\n",
            "Non-trainable params: 0\n",
            "_________________________________________________________________\n"
          ],
          "name": "stdout"
        }
      ]
    },
    {
      "cell_type": "code",
      "metadata": {
        "colab": {
          "base_uri": "https://localhost:8080/"
        },
        "id": "c_qomjB8fNh0",
        "outputId": "726c3f23-8c69-447b-adfb-97d93dae516a"
      },
      "source": [
        "for ix in range(len(model.layers)):\n",
        "    print(ix,model.layers[ix])"
      ],
      "id": "c_qomjB8fNh0",
      "execution_count": null,
      "outputs": [
        {
          "output_type": "stream",
          "text": [
            "0 <tensorflow.python.keras.engine.input_layer.InputLayer object at 0x7fdae595ae10>\n",
            "1 <tensorflow.python.keras.layers.convolutional.Conv2D object at 0x7fdae58f5710>\n",
            "2 <tensorflow.python.keras.layers.convolutional.Conv2D object at 0x7fdae59dd550>\n",
            "3 <tensorflow.python.keras.layers.pooling.MaxPooling2D object at 0x7fdae5979090>\n",
            "4 <tensorflow.python.keras.layers.convolutional.Conv2D object at 0x7fdae59295d0>\n",
            "5 <tensorflow.python.keras.layers.convolutional.Conv2D object at 0x7fdae5bd9cd0>\n",
            "6 <tensorflow.python.keras.layers.pooling.MaxPooling2D object at 0x7fdae5968390>\n",
            "7 <tensorflow.python.keras.layers.convolutional.Conv2D object at 0x7fdae5926890>\n",
            "8 <tensorflow.python.keras.layers.convolutional.Conv2D object at 0x7fdae59540d0>\n",
            "9 <tensorflow.python.keras.layers.convolutional.Conv2D object at 0x7fdae5ce4990>\n",
            "10 <tensorflow.python.keras.layers.convolutional.Conv2D object at 0x7fdae5954d50>\n",
            "11 <tensorflow.python.keras.layers.pooling.MaxPooling2D object at 0x7fdae5930a50>\n",
            "12 <tensorflow.python.keras.layers.convolutional.Conv2D object at 0x7fdae5979bd0>\n",
            "13 <tensorflow.python.keras.layers.convolutional.Conv2D object at 0x7fdae5936990>\n",
            "14 <tensorflow.python.keras.layers.convolutional.Conv2D object at 0x7fdae5d9d790>\n",
            "15 <tensorflow.python.keras.layers.convolutional.Conv2D object at 0x7fdae58fd850>\n",
            "16 <tensorflow.python.keras.layers.pooling.MaxPooling2D object at 0x7fdae592a4d0>\n",
            "17 <tensorflow.python.keras.layers.convolutional.Conv2D object at 0x7fdae5968790>\n",
            "18 <tensorflow.python.keras.layers.convolutional.Conv2D object at 0x7fdae592a510>\n",
            "19 <tensorflow.python.keras.layers.convolutional.Conv2D object at 0x7fdae5923c90>\n",
            "20 <tensorflow.python.keras.layers.convolutional.Conv2D object at 0x7fdae5926d50>\n",
            "21 <tensorflow.python.keras.layers.pooling.MaxPooling2D object at 0x7fdae5930f90>\n"
          ],
          "name": "stdout"
        }
      ]
    },
    {
      "cell_type": "markdown",
      "metadata": {
        "id": "6wdzW7d9QAyH"
      },
      "source": [
        "**Fine Tuning**"
      ],
      "id": "6wdzW7d9QAyH"
    },
    {
      "cell_type": "code",
      "metadata": {
        "colab": {
          "base_uri": "https://localhost:8080/"
        },
        "id": "ceNT4jtmfTHa",
        "outputId": "50c65241-b158-4744-9998-2cec20f710d8"
      },
      "source": [
        "for layer in model.layers[:19]:\n",
        "    layer.trainable = False\n",
        "for i, layer in enumerate(model.layers):\n",
        "    print(i, layer.name, layer.trainable)\n"
      ],
      "id": "ceNT4jtmfTHa",
      "execution_count": null,
      "outputs": [
        {
          "output_type": "stream",
          "text": [
            "0 input_4 False\n",
            "1 block1_conv1 False\n",
            "2 block1_conv2 False\n",
            "3 block1_pool False\n",
            "4 block2_conv1 False\n",
            "5 block2_conv2 False\n",
            "6 block2_pool False\n",
            "7 block3_conv1 False\n",
            "8 block3_conv2 False\n",
            "9 block3_conv3 False\n",
            "10 block3_conv4 False\n",
            "11 block3_pool False\n",
            "12 block4_conv1 False\n",
            "13 block4_conv2 False\n",
            "14 block4_conv3 False\n",
            "15 block4_conv4 False\n",
            "16 block4_pool False\n",
            "17 block5_conv1 False\n",
            "18 block5_conv2 False\n",
            "19 block5_conv3 True\n",
            "20 block5_conv4 True\n",
            "21 block5_pool True\n"
          ],
          "name": "stdout"
        }
      ]
    },
    {
      "cell_type": "code",
      "metadata": {
        "colab": {
          "base_uri": "https://localhost:8080/"
        },
        "id": "eb12teAefZu5",
        "outputId": "95372092-0fbf-43a1-ea98-2b7243cc56d3"
      },
      "source": [
        "av1 = Flatten()(model.output)\n",
        "fc1 = Dense(256,activation='relu',kernel_regularizer= l2(0.01),input_dim=256)(av1)\n",
        "d1 = Dropout(0.5)(fc1)\n",
        "fc2 = Dense(128,activation='relu',kernel_regularizer= l2(0.01),input_dim=128)(d1)\n",
        "d2 = Dropout(0.5)(fc2)\n",
        "fc3 = Dense(2,activation = 'sigmoid')(d2)\n",
        "\n",
        "\n",
        "model_vgg = Model(model.input,fc3)\n",
        "model_vgg.summary()"
      ],
      "id": "eb12teAefZu5",
      "execution_count": null,
      "outputs": [
        {
          "output_type": "stream",
          "text": [
            "Model: \"model_3\"\n",
            "_________________________________________________________________\n",
            "Layer (type)                 Output Shape              Param #   \n",
            "=================================================================\n",
            "input_4 (InputLayer)         [(None, 512, 512, 3)]     0         \n",
            "_________________________________________________________________\n",
            "block1_conv1 (Conv2D)        (None, 512, 512, 64)      1792      \n",
            "_________________________________________________________________\n",
            "block1_conv2 (Conv2D)        (None, 512, 512, 64)      36928     \n",
            "_________________________________________________________________\n",
            "block1_pool (MaxPooling2D)   (None, 256, 256, 64)      0         \n",
            "_________________________________________________________________\n",
            "block2_conv1 (Conv2D)        (None, 256, 256, 128)     73856     \n",
            "_________________________________________________________________\n",
            "block2_conv2 (Conv2D)        (None, 256, 256, 128)     147584    \n",
            "_________________________________________________________________\n",
            "block2_pool (MaxPooling2D)   (None, 128, 128, 128)     0         \n",
            "_________________________________________________________________\n",
            "block3_conv1 (Conv2D)        (None, 128, 128, 256)     295168    \n",
            "_________________________________________________________________\n",
            "block3_conv2 (Conv2D)        (None, 128, 128, 256)     590080    \n",
            "_________________________________________________________________\n",
            "block3_conv3 (Conv2D)        (None, 128, 128, 256)     590080    \n",
            "_________________________________________________________________\n",
            "block3_conv4 (Conv2D)        (None, 128, 128, 256)     590080    \n",
            "_________________________________________________________________\n",
            "block3_pool (MaxPooling2D)   (None, 64, 64, 256)       0         \n",
            "_________________________________________________________________\n",
            "block4_conv1 (Conv2D)        (None, 64, 64, 512)       1180160   \n",
            "_________________________________________________________________\n",
            "block4_conv2 (Conv2D)        (None, 64, 64, 512)       2359808   \n",
            "_________________________________________________________________\n",
            "block4_conv3 (Conv2D)        (None, 64, 64, 512)       2359808   \n",
            "_________________________________________________________________\n",
            "block4_conv4 (Conv2D)        (None, 64, 64, 512)       2359808   \n",
            "_________________________________________________________________\n",
            "block4_pool (MaxPooling2D)   (None, 32, 32, 512)       0         \n",
            "_________________________________________________________________\n",
            "block5_conv1 (Conv2D)        (None, 32, 32, 512)       2359808   \n",
            "_________________________________________________________________\n",
            "block5_conv2 (Conv2D)        (None, 32, 32, 512)       2359808   \n",
            "_________________________________________________________________\n",
            "block5_conv3 (Conv2D)        (None, 32, 32, 512)       2359808   \n",
            "_________________________________________________________________\n",
            "block5_conv4 (Conv2D)        (None, 32, 32, 512)       2359808   \n",
            "_________________________________________________________________\n",
            "block5_pool (MaxPooling2D)   (None, 16, 16, 512)       0         \n",
            "_________________________________________________________________\n",
            "flatten_3 (Flatten)          (None, 131072)            0         \n",
            "_________________________________________________________________\n",
            "dense_9 (Dense)              (None, 256)               33554688  \n",
            "_________________________________________________________________\n",
            "dropout_6 (Dropout)          (None, 256)               0         \n",
            "_________________________________________________________________\n",
            "dense_10 (Dense)             (None, 128)               32896     \n",
            "_________________________________________________________________\n",
            "dropout_7 (Dropout)          (None, 128)               0         \n",
            "_________________________________________________________________\n",
            "dense_11 (Dense)             (None, 2)                 258       \n",
            "=================================================================\n",
            "Total params: 53,612,226\n",
            "Trainable params: 38,307,458\n",
            "Non-trainable params: 15,304,768\n",
            "_________________________________________________________________\n"
          ],
          "name": "stdout"
        }
      ]
    },
    {
      "cell_type": "code",
      "metadata": {
        "id": "2Y6x0NixhifZ"
      },
      "source": [
        "from tensorflow.keras.applications import Xception"
      ],
      "id": "2Y6x0NixhifZ",
      "execution_count": null,
      "outputs": []
    },
    {
      "cell_type": "markdown",
      "metadata": {
        "id": "0abYUXlFQK1P"
      },
      "source": [
        "**Loading Xception Model**"
      ],
      "id": "0abYUXlFQK1P"
    },
    {
      "cell_type": "code",
      "metadata": {
        "id": "hWxUYK3MhM5i"
      },
      "source": [
        "model1 = Xception(include_top=False, input_shape=(512,512,3), weights='imagenet')"
      ],
      "id": "hWxUYK3MhM5i",
      "execution_count": null,
      "outputs": []
    },
    {
      "cell_type": "code",
      "metadata": {
        "colab": {
          "base_uri": "https://localhost:8080/"
        },
        "id": "qIONBBICiD-P",
        "outputId": "661cb2ae-68d5-402a-c8d3-1dff3d0dba1b"
      },
      "source": [
        "model1.summary()"
      ],
      "id": "qIONBBICiD-P",
      "execution_count": null,
      "outputs": [
        {
          "output_type": "stream",
          "text": [
            "Model: \"xception\"\n",
            "__________________________________________________________________________________________________\n",
            "Layer (type)                    Output Shape         Param #     Connected to                     \n",
            "==================================================================================================\n",
            "input_5 (InputLayer)            [(None, 512, 512, 3) 0                                            \n",
            "__________________________________________________________________________________________________\n",
            "block1_conv1 (Conv2D)           (None, 255, 255, 32) 864         input_5[0][0]                    \n",
            "__________________________________________________________________________________________________\n",
            "block1_conv1_bn (BatchNormaliza (None, 255, 255, 32) 128         block1_conv1[0][0]               \n",
            "__________________________________________________________________________________________________\n",
            "block1_conv1_act (Activation)   (None, 255, 255, 32) 0           block1_conv1_bn[0][0]            \n",
            "__________________________________________________________________________________________________\n",
            "block1_conv2 (Conv2D)           (None, 253, 253, 64) 18432       block1_conv1_act[0][0]           \n",
            "__________________________________________________________________________________________________\n",
            "block1_conv2_bn (BatchNormaliza (None, 253, 253, 64) 256         block1_conv2[0][0]               \n",
            "__________________________________________________________________________________________________\n",
            "block1_conv2_act (Activation)   (None, 253, 253, 64) 0           block1_conv2_bn[0][0]            \n",
            "__________________________________________________________________________________________________\n",
            "block2_sepconv1 (SeparableConv2 (None, 253, 253, 128 8768        block1_conv2_act[0][0]           \n",
            "__________________________________________________________________________________________________\n",
            "block2_sepconv1_bn (BatchNormal (None, 253, 253, 128 512         block2_sepconv1[0][0]            \n",
            "__________________________________________________________________________________________________\n",
            "block2_sepconv2_act (Activation (None, 253, 253, 128 0           block2_sepconv1_bn[0][0]         \n",
            "__________________________________________________________________________________________________\n",
            "block2_sepconv2 (SeparableConv2 (None, 253, 253, 128 17536       block2_sepconv2_act[0][0]        \n",
            "__________________________________________________________________________________________________\n",
            "block2_sepconv2_bn (BatchNormal (None, 253, 253, 128 512         block2_sepconv2[0][0]            \n",
            "__________________________________________________________________________________________________\n",
            "conv2d_4 (Conv2D)               (None, 127, 127, 128 8192        block1_conv2_act[0][0]           \n",
            "__________________________________________________________________________________________________\n",
            "block2_pool (MaxPooling2D)      (None, 127, 127, 128 0           block2_sepconv2_bn[0][0]         \n",
            "__________________________________________________________________________________________________\n",
            "batch_normalization_4 (BatchNor (None, 127, 127, 128 512         conv2d_4[0][0]                   \n",
            "__________________________________________________________________________________________________\n",
            "add_12 (Add)                    (None, 127, 127, 128 0           block2_pool[0][0]                \n",
            "                                                                 batch_normalization_4[0][0]      \n",
            "__________________________________________________________________________________________________\n",
            "block3_sepconv1_act (Activation (None, 127, 127, 128 0           add_12[0][0]                     \n",
            "__________________________________________________________________________________________________\n",
            "block3_sepconv1 (SeparableConv2 (None, 127, 127, 256 33920       block3_sepconv1_act[0][0]        \n",
            "__________________________________________________________________________________________________\n",
            "block3_sepconv1_bn (BatchNormal (None, 127, 127, 256 1024        block3_sepconv1[0][0]            \n",
            "__________________________________________________________________________________________________\n",
            "block3_sepconv2_act (Activation (None, 127, 127, 256 0           block3_sepconv1_bn[0][0]         \n",
            "__________________________________________________________________________________________________\n",
            "block3_sepconv2 (SeparableConv2 (None, 127, 127, 256 67840       block3_sepconv2_act[0][0]        \n",
            "__________________________________________________________________________________________________\n",
            "block3_sepconv2_bn (BatchNormal (None, 127, 127, 256 1024        block3_sepconv2[0][0]            \n",
            "__________________________________________________________________________________________________\n",
            "conv2d_5 (Conv2D)               (None, 64, 64, 256)  32768       add_12[0][0]                     \n",
            "__________________________________________________________________________________________________\n",
            "block3_pool (MaxPooling2D)      (None, 64, 64, 256)  0           block3_sepconv2_bn[0][0]         \n",
            "__________________________________________________________________________________________________\n",
            "batch_normalization_5 (BatchNor (None, 64, 64, 256)  1024        conv2d_5[0][0]                   \n",
            "__________________________________________________________________________________________________\n",
            "add_13 (Add)                    (None, 64, 64, 256)  0           block3_pool[0][0]                \n",
            "                                                                 batch_normalization_5[0][0]      \n",
            "__________________________________________________________________________________________________\n",
            "block4_sepconv1_act (Activation (None, 64, 64, 256)  0           add_13[0][0]                     \n",
            "__________________________________________________________________________________________________\n",
            "block4_sepconv1 (SeparableConv2 (None, 64, 64, 728)  188672      block4_sepconv1_act[0][0]        \n",
            "__________________________________________________________________________________________________\n",
            "block4_sepconv1_bn (BatchNormal (None, 64, 64, 728)  2912        block4_sepconv1[0][0]            \n",
            "__________________________________________________________________________________________________\n",
            "block4_sepconv2_act (Activation (None, 64, 64, 728)  0           block4_sepconv1_bn[0][0]         \n",
            "__________________________________________________________________________________________________\n",
            "block4_sepconv2 (SeparableConv2 (None, 64, 64, 728)  536536      block4_sepconv2_act[0][0]        \n",
            "__________________________________________________________________________________________________\n",
            "block4_sepconv2_bn (BatchNormal (None, 64, 64, 728)  2912        block4_sepconv2[0][0]            \n",
            "__________________________________________________________________________________________________\n",
            "conv2d_6 (Conv2D)               (None, 32, 32, 728)  186368      add_13[0][0]                     \n",
            "__________________________________________________________________________________________________\n",
            "block4_pool (MaxPooling2D)      (None, 32, 32, 728)  0           block4_sepconv2_bn[0][0]         \n",
            "__________________________________________________________________________________________________\n",
            "batch_normalization_6 (BatchNor (None, 32, 32, 728)  2912        conv2d_6[0][0]                   \n",
            "__________________________________________________________________________________________________\n",
            "add_14 (Add)                    (None, 32, 32, 728)  0           block4_pool[0][0]                \n",
            "                                                                 batch_normalization_6[0][0]      \n",
            "__________________________________________________________________________________________________\n",
            "block5_sepconv1_act (Activation (None, 32, 32, 728)  0           add_14[0][0]                     \n",
            "__________________________________________________________________________________________________\n",
            "block5_sepconv1 (SeparableConv2 (None, 32, 32, 728)  536536      block5_sepconv1_act[0][0]        \n",
            "__________________________________________________________________________________________________\n",
            "block5_sepconv1_bn (BatchNormal (None, 32, 32, 728)  2912        block5_sepconv1[0][0]            \n",
            "__________________________________________________________________________________________________\n",
            "block5_sepconv2_act (Activation (None, 32, 32, 728)  0           block5_sepconv1_bn[0][0]         \n",
            "__________________________________________________________________________________________________\n",
            "block5_sepconv2 (SeparableConv2 (None, 32, 32, 728)  536536      block5_sepconv2_act[0][0]        \n",
            "__________________________________________________________________________________________________\n",
            "block5_sepconv2_bn (BatchNormal (None, 32, 32, 728)  2912        block5_sepconv2[0][0]            \n",
            "__________________________________________________________________________________________________\n",
            "block5_sepconv3_act (Activation (None, 32, 32, 728)  0           block5_sepconv2_bn[0][0]         \n",
            "__________________________________________________________________________________________________\n",
            "block5_sepconv3 (SeparableConv2 (None, 32, 32, 728)  536536      block5_sepconv3_act[0][0]        \n",
            "__________________________________________________________________________________________________\n",
            "block5_sepconv3_bn (BatchNormal (None, 32, 32, 728)  2912        block5_sepconv3[0][0]            \n",
            "__________________________________________________________________________________________________\n",
            "add_15 (Add)                    (None, 32, 32, 728)  0           block5_sepconv3_bn[0][0]         \n",
            "                                                                 add_14[0][0]                     \n",
            "__________________________________________________________________________________________________\n",
            "block6_sepconv1_act (Activation (None, 32, 32, 728)  0           add_15[0][0]                     \n",
            "__________________________________________________________________________________________________\n",
            "block6_sepconv1 (SeparableConv2 (None, 32, 32, 728)  536536      block6_sepconv1_act[0][0]        \n",
            "__________________________________________________________________________________________________\n",
            "block6_sepconv1_bn (BatchNormal (None, 32, 32, 728)  2912        block6_sepconv1[0][0]            \n",
            "__________________________________________________________________________________________________\n",
            "block6_sepconv2_act (Activation (None, 32, 32, 728)  0           block6_sepconv1_bn[0][0]         \n",
            "__________________________________________________________________________________________________\n",
            "block6_sepconv2 (SeparableConv2 (None, 32, 32, 728)  536536      block6_sepconv2_act[0][0]        \n",
            "__________________________________________________________________________________________________\n",
            "block6_sepconv2_bn (BatchNormal (None, 32, 32, 728)  2912        block6_sepconv2[0][0]            \n",
            "__________________________________________________________________________________________________\n",
            "block6_sepconv3_act (Activation (None, 32, 32, 728)  0           block6_sepconv2_bn[0][0]         \n",
            "__________________________________________________________________________________________________\n",
            "block6_sepconv3 (SeparableConv2 (None, 32, 32, 728)  536536      block6_sepconv3_act[0][0]        \n",
            "__________________________________________________________________________________________________\n",
            "block6_sepconv3_bn (BatchNormal (None, 32, 32, 728)  2912        block6_sepconv3[0][0]            \n",
            "__________________________________________________________________________________________________\n",
            "add_16 (Add)                    (None, 32, 32, 728)  0           block6_sepconv3_bn[0][0]         \n",
            "                                                                 add_15[0][0]                     \n",
            "__________________________________________________________________________________________________\n",
            "block7_sepconv1_act (Activation (None, 32, 32, 728)  0           add_16[0][0]                     \n",
            "__________________________________________________________________________________________________\n",
            "block7_sepconv1 (SeparableConv2 (None, 32, 32, 728)  536536      block7_sepconv1_act[0][0]        \n",
            "__________________________________________________________________________________________________\n",
            "block7_sepconv1_bn (BatchNormal (None, 32, 32, 728)  2912        block7_sepconv1[0][0]            \n",
            "__________________________________________________________________________________________________\n",
            "block7_sepconv2_act (Activation (None, 32, 32, 728)  0           block7_sepconv1_bn[0][0]         \n",
            "__________________________________________________________________________________________________\n",
            "block7_sepconv2 (SeparableConv2 (None, 32, 32, 728)  536536      block7_sepconv2_act[0][0]        \n",
            "__________________________________________________________________________________________________\n",
            "block7_sepconv2_bn (BatchNormal (None, 32, 32, 728)  2912        block7_sepconv2[0][0]            \n",
            "__________________________________________________________________________________________________\n",
            "block7_sepconv3_act (Activation (None, 32, 32, 728)  0           block7_sepconv2_bn[0][0]         \n",
            "__________________________________________________________________________________________________\n",
            "block7_sepconv3 (SeparableConv2 (None, 32, 32, 728)  536536      block7_sepconv3_act[0][0]        \n",
            "__________________________________________________________________________________________________\n",
            "block7_sepconv3_bn (BatchNormal (None, 32, 32, 728)  2912        block7_sepconv3[0][0]            \n",
            "__________________________________________________________________________________________________\n",
            "add_17 (Add)                    (None, 32, 32, 728)  0           block7_sepconv3_bn[0][0]         \n",
            "                                                                 add_16[0][0]                     \n",
            "__________________________________________________________________________________________________\n",
            "block8_sepconv1_act (Activation (None, 32, 32, 728)  0           add_17[0][0]                     \n",
            "__________________________________________________________________________________________________\n",
            "block8_sepconv1 (SeparableConv2 (None, 32, 32, 728)  536536      block8_sepconv1_act[0][0]        \n",
            "__________________________________________________________________________________________________\n",
            "block8_sepconv1_bn (BatchNormal (None, 32, 32, 728)  2912        block8_sepconv1[0][0]            \n",
            "__________________________________________________________________________________________________\n",
            "block8_sepconv2_act (Activation (None, 32, 32, 728)  0           block8_sepconv1_bn[0][0]         \n",
            "__________________________________________________________________________________________________\n",
            "block8_sepconv2 (SeparableConv2 (None, 32, 32, 728)  536536      block8_sepconv2_act[0][0]        \n",
            "__________________________________________________________________________________________________\n",
            "block8_sepconv2_bn (BatchNormal (None, 32, 32, 728)  2912        block8_sepconv2[0][0]            \n",
            "__________________________________________________________________________________________________\n",
            "block8_sepconv3_act (Activation (None, 32, 32, 728)  0           block8_sepconv2_bn[0][0]         \n",
            "__________________________________________________________________________________________________\n",
            "block8_sepconv3 (SeparableConv2 (None, 32, 32, 728)  536536      block8_sepconv3_act[0][0]        \n",
            "__________________________________________________________________________________________________\n",
            "block8_sepconv3_bn (BatchNormal (None, 32, 32, 728)  2912        block8_sepconv3[0][0]            \n",
            "__________________________________________________________________________________________________\n",
            "add_18 (Add)                    (None, 32, 32, 728)  0           block8_sepconv3_bn[0][0]         \n",
            "                                                                 add_17[0][0]                     \n",
            "__________________________________________________________________________________________________\n",
            "block9_sepconv1_act (Activation (None, 32, 32, 728)  0           add_18[0][0]                     \n",
            "__________________________________________________________________________________________________\n",
            "block9_sepconv1 (SeparableConv2 (None, 32, 32, 728)  536536      block9_sepconv1_act[0][0]        \n",
            "__________________________________________________________________________________________________\n",
            "block9_sepconv1_bn (BatchNormal (None, 32, 32, 728)  2912        block9_sepconv1[0][0]            \n",
            "__________________________________________________________________________________________________\n",
            "block9_sepconv2_act (Activation (None, 32, 32, 728)  0           block9_sepconv1_bn[0][0]         \n",
            "__________________________________________________________________________________________________\n",
            "block9_sepconv2 (SeparableConv2 (None, 32, 32, 728)  536536      block9_sepconv2_act[0][0]        \n",
            "__________________________________________________________________________________________________\n",
            "block9_sepconv2_bn (BatchNormal (None, 32, 32, 728)  2912        block9_sepconv2[0][0]            \n",
            "__________________________________________________________________________________________________\n",
            "block9_sepconv3_act (Activation (None, 32, 32, 728)  0           block9_sepconv2_bn[0][0]         \n",
            "__________________________________________________________________________________________________\n",
            "block9_sepconv3 (SeparableConv2 (None, 32, 32, 728)  536536      block9_sepconv3_act[0][0]        \n",
            "__________________________________________________________________________________________________\n",
            "block9_sepconv3_bn (BatchNormal (None, 32, 32, 728)  2912        block9_sepconv3[0][0]            \n",
            "__________________________________________________________________________________________________\n",
            "add_19 (Add)                    (None, 32, 32, 728)  0           block9_sepconv3_bn[0][0]         \n",
            "                                                                 add_18[0][0]                     \n",
            "__________________________________________________________________________________________________\n",
            "block10_sepconv1_act (Activatio (None, 32, 32, 728)  0           add_19[0][0]                     \n",
            "__________________________________________________________________________________________________\n",
            "block10_sepconv1 (SeparableConv (None, 32, 32, 728)  536536      block10_sepconv1_act[0][0]       \n",
            "__________________________________________________________________________________________________\n",
            "block10_sepconv1_bn (BatchNorma (None, 32, 32, 728)  2912        block10_sepconv1[0][0]           \n",
            "__________________________________________________________________________________________________\n",
            "block10_sepconv2_act (Activatio (None, 32, 32, 728)  0           block10_sepconv1_bn[0][0]        \n",
            "__________________________________________________________________________________________________\n",
            "block10_sepconv2 (SeparableConv (None, 32, 32, 728)  536536      block10_sepconv2_act[0][0]       \n",
            "__________________________________________________________________________________________________\n",
            "block10_sepconv2_bn (BatchNorma (None, 32, 32, 728)  2912        block10_sepconv2[0][0]           \n",
            "__________________________________________________________________________________________________\n",
            "block10_sepconv3_act (Activatio (None, 32, 32, 728)  0           block10_sepconv2_bn[0][0]        \n",
            "__________________________________________________________________________________________________\n",
            "block10_sepconv3 (SeparableConv (None, 32, 32, 728)  536536      block10_sepconv3_act[0][0]       \n",
            "__________________________________________________________________________________________________\n",
            "block10_sepconv3_bn (BatchNorma (None, 32, 32, 728)  2912        block10_sepconv3[0][0]           \n",
            "__________________________________________________________________________________________________\n",
            "add_20 (Add)                    (None, 32, 32, 728)  0           block10_sepconv3_bn[0][0]        \n",
            "                                                                 add_19[0][0]                     \n",
            "__________________________________________________________________________________________________\n",
            "block11_sepconv1_act (Activatio (None, 32, 32, 728)  0           add_20[0][0]                     \n",
            "__________________________________________________________________________________________________\n",
            "block11_sepconv1 (SeparableConv (None, 32, 32, 728)  536536      block11_sepconv1_act[0][0]       \n",
            "__________________________________________________________________________________________________\n",
            "block11_sepconv1_bn (BatchNorma (None, 32, 32, 728)  2912        block11_sepconv1[0][0]           \n",
            "__________________________________________________________________________________________________\n",
            "block11_sepconv2_act (Activatio (None, 32, 32, 728)  0           block11_sepconv1_bn[0][0]        \n",
            "__________________________________________________________________________________________________\n",
            "block11_sepconv2 (SeparableConv (None, 32, 32, 728)  536536      block11_sepconv2_act[0][0]       \n",
            "__________________________________________________________________________________________________\n",
            "block11_sepconv2_bn (BatchNorma (None, 32, 32, 728)  2912        block11_sepconv2[0][0]           \n",
            "__________________________________________________________________________________________________\n",
            "block11_sepconv3_act (Activatio (None, 32, 32, 728)  0           block11_sepconv2_bn[0][0]        \n",
            "__________________________________________________________________________________________________\n",
            "block11_sepconv3 (SeparableConv (None, 32, 32, 728)  536536      block11_sepconv3_act[0][0]       \n",
            "__________________________________________________________________________________________________\n",
            "block11_sepconv3_bn (BatchNorma (None, 32, 32, 728)  2912        block11_sepconv3[0][0]           \n",
            "__________________________________________________________________________________________________\n",
            "add_21 (Add)                    (None, 32, 32, 728)  0           block11_sepconv3_bn[0][0]        \n",
            "                                                                 add_20[0][0]                     \n",
            "__________________________________________________________________________________________________\n",
            "block12_sepconv1_act (Activatio (None, 32, 32, 728)  0           add_21[0][0]                     \n",
            "__________________________________________________________________________________________________\n",
            "block12_sepconv1 (SeparableConv (None, 32, 32, 728)  536536      block12_sepconv1_act[0][0]       \n",
            "__________________________________________________________________________________________________\n",
            "block12_sepconv1_bn (BatchNorma (None, 32, 32, 728)  2912        block12_sepconv1[0][0]           \n",
            "__________________________________________________________________________________________________\n",
            "block12_sepconv2_act (Activatio (None, 32, 32, 728)  0           block12_sepconv1_bn[0][0]        \n",
            "__________________________________________________________________________________________________\n",
            "block12_sepconv2 (SeparableConv (None, 32, 32, 728)  536536      block12_sepconv2_act[0][0]       \n",
            "__________________________________________________________________________________________________\n",
            "block12_sepconv2_bn (BatchNorma (None, 32, 32, 728)  2912        block12_sepconv2[0][0]           \n",
            "__________________________________________________________________________________________________\n",
            "block12_sepconv3_act (Activatio (None, 32, 32, 728)  0           block12_sepconv2_bn[0][0]        \n",
            "__________________________________________________________________________________________________\n",
            "block12_sepconv3 (SeparableConv (None, 32, 32, 728)  536536      block12_sepconv3_act[0][0]       \n",
            "__________________________________________________________________________________________________\n",
            "block12_sepconv3_bn (BatchNorma (None, 32, 32, 728)  2912        block12_sepconv3[0][0]           \n",
            "__________________________________________________________________________________________________\n",
            "add_22 (Add)                    (None, 32, 32, 728)  0           block12_sepconv3_bn[0][0]        \n",
            "                                                                 add_21[0][0]                     \n",
            "__________________________________________________________________________________________________\n",
            "block13_sepconv1_act (Activatio (None, 32, 32, 728)  0           add_22[0][0]                     \n",
            "__________________________________________________________________________________________________\n",
            "block13_sepconv1 (SeparableConv (None, 32, 32, 728)  536536      block13_sepconv1_act[0][0]       \n",
            "__________________________________________________________________________________________________\n",
            "block13_sepconv1_bn (BatchNorma (None, 32, 32, 728)  2912        block13_sepconv1[0][0]           \n",
            "__________________________________________________________________________________________________\n",
            "block13_sepconv2_act (Activatio (None, 32, 32, 728)  0           block13_sepconv1_bn[0][0]        \n",
            "__________________________________________________________________________________________________\n",
            "block13_sepconv2 (SeparableConv (None, 32, 32, 1024) 752024      block13_sepconv2_act[0][0]       \n",
            "__________________________________________________________________________________________________\n",
            "block13_sepconv2_bn (BatchNorma (None, 32, 32, 1024) 4096        block13_sepconv2[0][0]           \n",
            "__________________________________________________________________________________________________\n",
            "conv2d_7 (Conv2D)               (None, 16, 16, 1024) 745472      add_22[0][0]                     \n",
            "__________________________________________________________________________________________________\n",
            "block13_pool (MaxPooling2D)     (None, 16, 16, 1024) 0           block13_sepconv2_bn[0][0]        \n",
            "__________________________________________________________________________________________________\n",
            "batch_normalization_7 (BatchNor (None, 16, 16, 1024) 4096        conv2d_7[0][0]                   \n",
            "__________________________________________________________________________________________________\n",
            "add_23 (Add)                    (None, 16, 16, 1024) 0           block13_pool[0][0]               \n",
            "                                                                 batch_normalization_7[0][0]      \n",
            "__________________________________________________________________________________________________\n",
            "block14_sepconv1 (SeparableConv (None, 16, 16, 1536) 1582080     add_23[0][0]                     \n",
            "__________________________________________________________________________________________________\n",
            "block14_sepconv1_bn (BatchNorma (None, 16, 16, 1536) 6144        block14_sepconv1[0][0]           \n",
            "__________________________________________________________________________________________________\n",
            "block14_sepconv1_act (Activatio (None, 16, 16, 1536) 0           block14_sepconv1_bn[0][0]        \n",
            "__________________________________________________________________________________________________\n",
            "block14_sepconv2 (SeparableConv (None, 16, 16, 2048) 3159552     block14_sepconv1_act[0][0]       \n",
            "__________________________________________________________________________________________________\n",
            "block14_sepconv2_bn (BatchNorma (None, 16, 16, 2048) 8192        block14_sepconv2[0][0]           \n",
            "__________________________________________________________________________________________________\n",
            "block14_sepconv2_act (Activatio (None, 16, 16, 2048) 0           block14_sepconv2_bn[0][0]        \n",
            "==================================================================================================\n",
            "Total params: 20,861,480\n",
            "Trainable params: 20,806,952\n",
            "Non-trainable params: 54,528\n",
            "__________________________________________________________________________________________________\n"
          ],
          "name": "stdout"
        }
      ]
    },
    {
      "cell_type": "code",
      "metadata": {
        "colab": {
          "base_uri": "https://localhost:8080/"
        },
        "id": "AJVa8HrZiVj5",
        "outputId": "37923501-544b-4a5c-cf79-8bf1f39a9670"
      },
      "source": [
        "for ix in range(len(model1.layers)):\n",
        "    print(ix,model1.layers[ix])"
      ],
      "id": "AJVa8HrZiVj5",
      "execution_count": null,
      "outputs": [
        {
          "output_type": "stream",
          "text": [
            "0 <tensorflow.python.keras.engine.input_layer.InputLayer object at 0x7fdae58d3c50>\n",
            "1 <tensorflow.python.keras.layers.convolutional.Conv2D object at 0x7fdae58d3d10>\n",
            "2 <tensorflow.python.keras.layers.normalization_v2.BatchNormalization object at 0x7fdb30048a10>\n",
            "3 <tensorflow.python.keras.layers.core.Activation object at 0x7fdae5929b10>\n",
            "4 <tensorflow.python.keras.layers.convolutional.Conv2D object at 0x7fdb3038c510>\n",
            "5 <tensorflow.python.keras.layers.normalization_v2.BatchNormalization object at 0x7fdae58d6510>\n",
            "6 <tensorflow.python.keras.layers.core.Activation object at 0x7fdae5929650>\n",
            "7 <tensorflow.python.keras.layers.convolutional.SeparableConv2D object at 0x7fdae597fa50>\n",
            "8 <tensorflow.python.keras.layers.normalization_v2.BatchNormalization object at 0x7fdae5944810>\n",
            "9 <tensorflow.python.keras.layers.core.Activation object at 0x7fdae59330d0>\n",
            "10 <tensorflow.python.keras.layers.convolutional.SeparableConv2D object at 0x7fdae5c6c390>\n",
            "11 <tensorflow.python.keras.layers.normalization_v2.BatchNormalization object at 0x7fdae595a3d0>\n",
            "12 <tensorflow.python.keras.layers.convolutional.Conv2D object at 0x7fdae5926c90>\n",
            "13 <tensorflow.python.keras.layers.pooling.MaxPooling2D object at 0x7fdae586b550>\n",
            "14 <tensorflow.python.keras.layers.normalization_v2.BatchNormalization object at 0x7fdae5d88310>\n",
            "15 <tensorflow.python.keras.layers.merge.Add object at 0x7fdae586b590>\n",
            "16 <tensorflow.python.keras.layers.core.Activation object at 0x7fdae5886c10>\n",
            "17 <tensorflow.python.keras.layers.convolutional.SeparableConv2D object at 0x7fdae588a5d0>\n",
            "18 <tensorflow.python.keras.layers.normalization_v2.BatchNormalization object at 0x7fdae5886050>\n",
            "19 <tensorflow.python.keras.layers.core.Activation object at 0x7fdae588a4d0>\n",
            "20 <tensorflow.python.keras.layers.convolutional.SeparableConv2D object at 0x7fdae59294d0>\n",
            "21 <tensorflow.python.keras.layers.normalization_v2.BatchNormalization object at 0x7fdae5891d10>\n",
            "22 <tensorflow.python.keras.layers.convolutional.Conv2D object at 0x7fdae5876410>\n",
            "23 <tensorflow.python.keras.layers.pooling.MaxPooling2D object at 0x7fdae58968d0>\n",
            "24 <tensorflow.python.keras.layers.normalization_v2.BatchNormalization object at 0x7fdae587c450>\n",
            "25 <tensorflow.python.keras.layers.merge.Add object at 0x7fdae5831790>\n",
            "26 <tensorflow.python.keras.layers.core.Activation object at 0x7fdae583a890>\n",
            "27 <tensorflow.python.keras.layers.convolutional.SeparableConv2D object at 0x7fdae5831550>\n",
            "28 <tensorflow.python.keras.layers.normalization_v2.BatchNormalization object at 0x7fdae583abd0>\n",
            "29 <tensorflow.python.keras.layers.core.Activation object at 0x7fdae58587d0>\n",
            "30 <tensorflow.python.keras.layers.convolutional.SeparableConv2D object at 0x7fdae5858d50>\n",
            "31 <tensorflow.python.keras.layers.normalization_v2.BatchNormalization object at 0x7fdae58509d0>\n",
            "32 <tensorflow.python.keras.layers.convolutional.Conv2D object at 0x7fdae582b4d0>\n",
            "33 <tensorflow.python.keras.layers.pooling.MaxPooling2D object at 0x7fdae5836950>\n",
            "34 <tensorflow.python.keras.layers.normalization_v2.BatchNormalization object at 0x7fdae58368d0>\n",
            "35 <tensorflow.python.keras.layers.merge.Add object at 0x7fdae57ee510>\n",
            "36 <tensorflow.python.keras.layers.core.Activation object at 0x7fdae57ee390>\n",
            "37 <tensorflow.python.keras.layers.convolutional.SeparableConv2D object at 0x7fdae57ea110>\n",
            "38 <tensorflow.python.keras.layers.normalization_v2.BatchNormalization object at 0x7fdae57e2950>\n",
            "39 <tensorflow.python.keras.layers.core.Activation object at 0x7fdae5858b10>\n",
            "40 <tensorflow.python.keras.layers.convolutional.SeparableConv2D object at 0x7fdae5850f90>\n",
            "41 <tensorflow.python.keras.layers.normalization_v2.BatchNormalization object at 0x7fdae57ff5d0>\n",
            "42 <tensorflow.python.keras.layers.core.Activation object at 0x7fdae5805c50>\n",
            "43 <tensorflow.python.keras.layers.convolutional.SeparableConv2D object at 0x7fdae5816350>\n",
            "44 <tensorflow.python.keras.layers.normalization_v2.BatchNormalization object at 0x7fdae580bd90>\n",
            "45 <tensorflow.python.keras.layers.merge.Add object at 0x7fdae5858f90>\n",
            "46 <tensorflow.python.keras.layers.core.Activation object at 0x7fdae58408d0>\n",
            "47 <tensorflow.python.keras.layers.convolutional.SeparableConv2D object at 0x7fdae5c47450>\n",
            "48 <tensorflow.python.keras.layers.normalization_v2.BatchNormalization object at 0x7fdae5c298d0>\n",
            "49 <tensorflow.python.keras.layers.core.Activation object at 0x7fdae5c8ac50>\n",
            "50 <tensorflow.python.keras.layers.convolutional.SeparableConv2D object at 0x7fdb303adc10>\n",
            "51 <tensorflow.python.keras.layers.normalization_v2.BatchNormalization object at 0x7fdae594ae50>\n",
            "52 <tensorflow.python.keras.layers.core.Activation object at 0x7fdae594c550>\n",
            "53 <tensorflow.python.keras.layers.convolutional.SeparableConv2D object at 0x7fdae5bfb790>\n",
            "54 <tensorflow.python.keras.layers.normalization_v2.BatchNormalization object at 0x7fdae5951710>\n",
            "55 <tensorflow.python.keras.layers.merge.Add object at 0x7fdae5c47210>\n",
            "56 <tensorflow.python.keras.layers.core.Activation object at 0x7fdaf60c9990>\n",
            "57 <tensorflow.python.keras.layers.convolutional.SeparableConv2D object at 0x7fdae594ead0>\n",
            "58 <tensorflow.python.keras.layers.normalization_v2.BatchNormalization object at 0x7fdaf60949d0>\n",
            "59 <tensorflow.python.keras.layers.core.Activation object at 0x7fdaf60df750>\n",
            "60 <tensorflow.python.keras.layers.convolutional.SeparableConv2D object at 0x7fdae5d1a2d0>\n",
            "61 <tensorflow.python.keras.layers.normalization_v2.BatchNormalization object at 0x7fdb5320be10>\n",
            "62 <tensorflow.python.keras.layers.core.Activation object at 0x7fdae5ceda50>\n",
            "63 <tensorflow.python.keras.layers.convolutional.SeparableConv2D object at 0x7fdae57f9a10>\n",
            "64 <tensorflow.python.keras.layers.normalization_v2.BatchNormalization object at 0x7fdae5816ad0>\n",
            "65 <tensorflow.python.keras.layers.merge.Add object at 0x7fdae5805050>\n",
            "66 <tensorflow.python.keras.layers.core.Activation object at 0x7fdae594e310>\n",
            "67 <tensorflow.python.keras.layers.convolutional.SeparableConv2D object at 0x7fdae59a5450>\n",
            "68 <tensorflow.python.keras.layers.normalization_v2.BatchNormalization object at 0x7fdae59baf50>\n",
            "69 <tensorflow.python.keras.layers.core.Activation object at 0x7fdae59c62d0>\n",
            "70 <tensorflow.python.keras.layers.convolutional.SeparableConv2D object at 0x7fdae59cfdd0>\n",
            "71 <tensorflow.python.keras.layers.normalization_v2.BatchNormalization object at 0x7fdae59cf7d0>\n",
            "72 <tensorflow.python.keras.layers.core.Activation object at 0x7fdae5a1ce90>\n",
            "73 <tensorflow.python.keras.layers.convolutional.SeparableConv2D object at 0x7fdae5b02b90>\n",
            "74 <tensorflow.python.keras.layers.normalization_v2.BatchNormalization object at 0x7fdae59b06d0>\n",
            "75 <tensorflow.python.keras.layers.merge.Add object at 0x7fdae5c07b50>\n",
            "76 <tensorflow.python.keras.layers.core.Activation object at 0x7fdae59cbd50>\n",
            "77 <tensorflow.python.keras.layers.convolutional.SeparableConv2D object at 0x7fdae5bd5590>\n",
            "78 <tensorflow.python.keras.layers.normalization_v2.BatchNormalization object at 0x7fdae5c19850>\n",
            "79 <tensorflow.python.keras.layers.core.Activation object at 0x7fdae5b1e7d0>\n",
            "80 <tensorflow.python.keras.layers.convolutional.SeparableConv2D object at 0x7fdae5a142d0>\n",
            "81 <tensorflow.python.keras.layers.normalization_v2.BatchNormalization object at 0x7fdae59a76d0>\n",
            "82 <tensorflow.python.keras.layers.core.Activation object at 0x7fdae5a7b8d0>\n",
            "83 <tensorflow.python.keras.layers.convolutional.SeparableConv2D object at 0x7fdae5aec990>\n",
            "84 <tensorflow.python.keras.layers.normalization_v2.BatchNormalization object at 0x7fdae5a14d50>\n",
            "85 <tensorflow.python.keras.layers.merge.Add object at 0x7fdae5a1cc50>\n",
            "86 <tensorflow.python.keras.layers.core.Activation object at 0x7fdae5c6c8d0>\n",
            "87 <tensorflow.python.keras.layers.convolutional.SeparableConv2D object at 0x7fdae5aec590>\n",
            "88 <tensorflow.python.keras.layers.normalization_v2.BatchNormalization object at 0x7fdae59b8390>\n",
            "89 <tensorflow.python.keras.layers.core.Activation object at 0x7fdae59ddc10>\n",
            "90 <tensorflow.python.keras.layers.convolutional.SeparableConv2D object at 0x7fdae5da95d0>\n",
            "91 <tensorflow.python.keras.layers.normalization_v2.BatchNormalization object at 0x7fdae585d0d0>\n",
            "92 <tensorflow.python.keras.layers.core.Activation object at 0x7fdaf60c1150>\n",
            "93 <tensorflow.python.keras.layers.convolutional.SeparableConv2D object at 0x7fdb42606e10>\n",
            "94 <tensorflow.python.keras.layers.normalization_v2.BatchNormalization object at 0x7fdae594ce90>\n",
            "95 <tensorflow.python.keras.layers.merge.Add object at 0x7fdae5c29fd0>\n",
            "96 <tensorflow.python.keras.layers.core.Activation object at 0x7fdae59c6a10>\n",
            "97 <tensorflow.python.keras.layers.convolutional.SeparableConv2D object at 0x7fdae5a69c50>\n",
            "98 <tensorflow.python.keras.layers.normalization_v2.BatchNormalization object at 0x7fdae5b61210>\n",
            "99 <tensorflow.python.keras.layers.core.Activation object at 0x7fdae59f7e10>\n",
            "100 <tensorflow.python.keras.layers.convolutional.SeparableConv2D object at 0x7fdae5ac9510>\n",
            "101 <tensorflow.python.keras.layers.normalization_v2.BatchNormalization object at 0x7fdae5bc6810>\n",
            "102 <tensorflow.python.keras.layers.core.Activation object at 0x7fdae5a4e5d0>\n",
            "103 <tensorflow.python.keras.layers.convolutional.SeparableConv2D object at 0x7fdae5bc6450>\n",
            "104 <tensorflow.python.keras.layers.normalization_v2.BatchNormalization object at 0x7fdae5ada9d0>\n",
            "105 <tensorflow.python.keras.layers.merge.Add object at 0x7fdae5ab2350>\n",
            "106 <tensorflow.python.keras.layers.core.Activation object at 0x7fdae5a3ce90>\n",
            "107 <tensorflow.python.keras.layers.convolutional.SeparableConv2D object at 0x7fdae5b5e3d0>\n",
            "108 <tensorflow.python.keras.layers.normalization_v2.BatchNormalization object at 0x7fdae5b5ee10>\n",
            "109 <tensorflow.python.keras.layers.core.Activation object at 0x7fdae5b34990>\n",
            "110 <tensorflow.python.keras.layers.convolutional.SeparableConv2D object at 0x7fdae5af8150>\n",
            "111 <tensorflow.python.keras.layers.normalization_v2.BatchNormalization object at 0x7fdae5a9bb90>\n",
            "112 <tensorflow.python.keras.layers.core.Activation object at 0x7fdae5abdf90>\n",
            "113 <tensorflow.python.keras.layers.convolutional.SeparableConv2D object at 0x7fdae59e5750>\n",
            "114 <tensorflow.python.keras.layers.normalization_v2.BatchNormalization object at 0x7fdae5a9bc10>\n",
            "115 <tensorflow.python.keras.layers.merge.Add object at 0x7fdae5b3c390>\n",
            "116 <tensorflow.python.keras.layers.core.Activation object at 0x7fdae5a59a50>\n",
            "117 <tensorflow.python.keras.layers.convolutional.SeparableConv2D object at 0x7fdae5a59c90>\n",
            "118 <tensorflow.python.keras.layers.normalization_v2.BatchNormalization object at 0x7fdae5a9d110>\n",
            "119 <tensorflow.python.keras.layers.core.Activation object at 0x7fdaf610da10>\n",
            "120 <tensorflow.python.keras.layers.convolutional.SeparableConv2D object at 0x7fdae5afc150>\n",
            "121 <tensorflow.python.keras.layers.normalization_v2.BatchNormalization object at 0x7fdae5a59310>\n",
            "122 <tensorflow.python.keras.layers.convolutional.Conv2D object at 0x7fdae5b21bd0>\n",
            "123 <tensorflow.python.keras.layers.pooling.MaxPooling2D object at 0x7fdae5abd9d0>\n",
            "124 <tensorflow.python.keras.layers.normalization_v2.BatchNormalization object at 0x7fdae5a27090>\n",
            "125 <tensorflow.python.keras.layers.merge.Add object at 0x7fdae5af8810>\n",
            "126 <tensorflow.python.keras.layers.convolutional.SeparableConv2D object at 0x7fdae5ad17d0>\n",
            "127 <tensorflow.python.keras.layers.normalization_v2.BatchNormalization object at 0x7fdae5b2cb50>\n",
            "128 <tensorflow.python.keras.layers.core.Activation object at 0x7fdae5a69990>\n",
            "129 <tensorflow.python.keras.layers.convolutional.SeparableConv2D object at 0x7fdae5a913d0>\n",
            "130 <tensorflow.python.keras.layers.normalization_v2.BatchNormalization object at 0x7fdae594cc10>\n",
            "131 <tensorflow.python.keras.layers.core.Activation object at 0x7fdaf606ad10>\n"
          ],
          "name": "stdout"
        }
      ]
    },
    {
      "cell_type": "markdown",
      "metadata": {
        "id": "LKWn1IfrQRSS"
      },
      "source": [
        "**Fine Tuning**"
      ],
      "id": "LKWn1IfrQRSS"
    },
    {
      "cell_type": "code",
      "metadata": {
        "colab": {
          "base_uri": "https://localhost:8080/"
        },
        "id": "U3GvhrlAiQPk",
        "outputId": "b085c333-5c51-4329-c960-29febf9714a1"
      },
      "source": [
        "for layer in model1.layers[:127]:\n",
        "    layer.trainable = False\n",
        "for i, layer in enumerate(model1.layers):\n",
        "    print(i, layer.name, layer.trainable)"
      ],
      "id": "U3GvhrlAiQPk",
      "execution_count": null,
      "outputs": [
        {
          "output_type": "stream",
          "text": [
            "0 input_5 False\n",
            "1 block1_conv1 False\n",
            "2 block1_conv1_bn False\n",
            "3 block1_conv1_act False\n",
            "4 block1_conv2 False\n",
            "5 block1_conv2_bn False\n",
            "6 block1_conv2_act False\n",
            "7 block2_sepconv1 False\n",
            "8 block2_sepconv1_bn False\n",
            "9 block2_sepconv2_act False\n",
            "10 block2_sepconv2 False\n",
            "11 block2_sepconv2_bn False\n",
            "12 conv2d_4 False\n",
            "13 block2_pool False\n",
            "14 batch_normalization_4 False\n",
            "15 add_12 False\n",
            "16 block3_sepconv1_act False\n",
            "17 block3_sepconv1 False\n",
            "18 block3_sepconv1_bn False\n",
            "19 block3_sepconv2_act False\n",
            "20 block3_sepconv2 False\n",
            "21 block3_sepconv2_bn False\n",
            "22 conv2d_5 False\n",
            "23 block3_pool False\n",
            "24 batch_normalization_5 False\n",
            "25 add_13 False\n",
            "26 block4_sepconv1_act False\n",
            "27 block4_sepconv1 False\n",
            "28 block4_sepconv1_bn False\n",
            "29 block4_sepconv2_act False\n",
            "30 block4_sepconv2 False\n",
            "31 block4_sepconv2_bn False\n",
            "32 conv2d_6 False\n",
            "33 block4_pool False\n",
            "34 batch_normalization_6 False\n",
            "35 add_14 False\n",
            "36 block5_sepconv1_act False\n",
            "37 block5_sepconv1 False\n",
            "38 block5_sepconv1_bn False\n",
            "39 block5_sepconv2_act False\n",
            "40 block5_sepconv2 False\n",
            "41 block5_sepconv2_bn False\n",
            "42 block5_sepconv3_act False\n",
            "43 block5_sepconv3 False\n",
            "44 block5_sepconv3_bn False\n",
            "45 add_15 False\n",
            "46 block6_sepconv1_act False\n",
            "47 block6_sepconv1 False\n",
            "48 block6_sepconv1_bn False\n",
            "49 block6_sepconv2_act False\n",
            "50 block6_sepconv2 False\n",
            "51 block6_sepconv2_bn False\n",
            "52 block6_sepconv3_act False\n",
            "53 block6_sepconv3 False\n",
            "54 block6_sepconv3_bn False\n",
            "55 add_16 False\n",
            "56 block7_sepconv1_act False\n",
            "57 block7_sepconv1 False\n",
            "58 block7_sepconv1_bn False\n",
            "59 block7_sepconv2_act False\n",
            "60 block7_sepconv2 False\n",
            "61 block7_sepconv2_bn False\n",
            "62 block7_sepconv3_act False\n",
            "63 block7_sepconv3 False\n",
            "64 block7_sepconv3_bn False\n",
            "65 add_17 False\n",
            "66 block8_sepconv1_act False\n",
            "67 block8_sepconv1 False\n",
            "68 block8_sepconv1_bn False\n",
            "69 block8_sepconv2_act False\n",
            "70 block8_sepconv2 False\n",
            "71 block8_sepconv2_bn False\n",
            "72 block8_sepconv3_act False\n",
            "73 block8_sepconv3 False\n",
            "74 block8_sepconv3_bn False\n",
            "75 add_18 False\n",
            "76 block9_sepconv1_act False\n",
            "77 block9_sepconv1 False\n",
            "78 block9_sepconv1_bn False\n",
            "79 block9_sepconv2_act False\n",
            "80 block9_sepconv2 False\n",
            "81 block9_sepconv2_bn False\n",
            "82 block9_sepconv3_act False\n",
            "83 block9_sepconv3 False\n",
            "84 block9_sepconv3_bn False\n",
            "85 add_19 False\n",
            "86 block10_sepconv1_act False\n",
            "87 block10_sepconv1 False\n",
            "88 block10_sepconv1_bn False\n",
            "89 block10_sepconv2_act False\n",
            "90 block10_sepconv2 False\n",
            "91 block10_sepconv2_bn False\n",
            "92 block10_sepconv3_act False\n",
            "93 block10_sepconv3 False\n",
            "94 block10_sepconv3_bn False\n",
            "95 add_20 False\n",
            "96 block11_sepconv1_act False\n",
            "97 block11_sepconv1 False\n",
            "98 block11_sepconv1_bn False\n",
            "99 block11_sepconv2_act False\n",
            "100 block11_sepconv2 False\n",
            "101 block11_sepconv2_bn False\n",
            "102 block11_sepconv3_act False\n",
            "103 block11_sepconv3 False\n",
            "104 block11_sepconv3_bn False\n",
            "105 add_21 False\n",
            "106 block12_sepconv1_act False\n",
            "107 block12_sepconv1 False\n",
            "108 block12_sepconv1_bn False\n",
            "109 block12_sepconv2_act False\n",
            "110 block12_sepconv2 False\n",
            "111 block12_sepconv2_bn False\n",
            "112 block12_sepconv3_act False\n",
            "113 block12_sepconv3 False\n",
            "114 block12_sepconv3_bn False\n",
            "115 add_22 False\n",
            "116 block13_sepconv1_act False\n",
            "117 block13_sepconv1 False\n",
            "118 block13_sepconv1_bn False\n",
            "119 block13_sepconv2_act False\n",
            "120 block13_sepconv2 False\n",
            "121 block13_sepconv2_bn False\n",
            "122 conv2d_7 False\n",
            "123 block13_pool False\n",
            "124 batch_normalization_7 False\n",
            "125 add_23 False\n",
            "126 block14_sepconv1 False\n",
            "127 block14_sepconv1_bn True\n",
            "128 block14_sepconv1_act True\n",
            "129 block14_sepconv2 True\n",
            "130 block14_sepconv2_bn True\n",
            "131 block14_sepconv2_act True\n"
          ],
          "name": "stdout"
        }
      ]
    },
    {
      "cell_type": "code",
      "metadata": {
        "colab": {
          "base_uri": "https://localhost:8080/"
        },
        "id": "o4hM2x6CjX1w",
        "outputId": "da80bac8-6e97-4ea0-9b3f-83f9632bdf8e"
      },
      "source": [
        "av1 = Flatten()(model1.output)\n",
        "fc1 = Dense(256,activation='relu',kernel_regularizer= l2(0.01),input_dim=256)(av1)\n",
        "d1 = Dropout(0.5)(fc1)\n",
        "fc2 = Dense(128,activation='relu',kernel_regularizer= l2(0.01),input_dim=128)(d1)\n",
        "d2 = Dropout(0.5)(fc2)\n",
        "fc3 = Dense(2,activation = 'sigmoid')(d2)\n",
        "\n",
        "\n",
        "model_x = Model(model1.input,fc3)\n",
        "model_x.summary()"
      ],
      "id": "o4hM2x6CjX1w",
      "execution_count": null,
      "outputs": [
        {
          "output_type": "stream",
          "text": [
            "Model: \"model_4\"\n",
            "__________________________________________________________________________________________________\n",
            "Layer (type)                    Output Shape         Param #     Connected to                     \n",
            "==================================================================================================\n",
            "input_5 (InputLayer)            [(None, 512, 512, 3) 0                                            \n",
            "__________________________________________________________________________________________________\n",
            "block1_conv1 (Conv2D)           (None, 255, 255, 32) 864         input_5[0][0]                    \n",
            "__________________________________________________________________________________________________\n",
            "block1_conv1_bn (BatchNormaliza (None, 255, 255, 32) 128         block1_conv1[0][0]               \n",
            "__________________________________________________________________________________________________\n",
            "block1_conv1_act (Activation)   (None, 255, 255, 32) 0           block1_conv1_bn[0][0]            \n",
            "__________________________________________________________________________________________________\n",
            "block1_conv2 (Conv2D)           (None, 253, 253, 64) 18432       block1_conv1_act[0][0]           \n",
            "__________________________________________________________________________________________________\n",
            "block1_conv2_bn (BatchNormaliza (None, 253, 253, 64) 256         block1_conv2[0][0]               \n",
            "__________________________________________________________________________________________________\n",
            "block1_conv2_act (Activation)   (None, 253, 253, 64) 0           block1_conv2_bn[0][0]            \n",
            "__________________________________________________________________________________________________\n",
            "block2_sepconv1 (SeparableConv2 (None, 253, 253, 128 8768        block1_conv2_act[0][0]           \n",
            "__________________________________________________________________________________________________\n",
            "block2_sepconv1_bn (BatchNormal (None, 253, 253, 128 512         block2_sepconv1[0][0]            \n",
            "__________________________________________________________________________________________________\n",
            "block2_sepconv2_act (Activation (None, 253, 253, 128 0           block2_sepconv1_bn[0][0]         \n",
            "__________________________________________________________________________________________________\n",
            "block2_sepconv2 (SeparableConv2 (None, 253, 253, 128 17536       block2_sepconv2_act[0][0]        \n",
            "__________________________________________________________________________________________________\n",
            "block2_sepconv2_bn (BatchNormal (None, 253, 253, 128 512         block2_sepconv2[0][0]            \n",
            "__________________________________________________________________________________________________\n",
            "conv2d_4 (Conv2D)               (None, 127, 127, 128 8192        block1_conv2_act[0][0]           \n",
            "__________________________________________________________________________________________________\n",
            "block2_pool (MaxPooling2D)      (None, 127, 127, 128 0           block2_sepconv2_bn[0][0]         \n",
            "__________________________________________________________________________________________________\n",
            "batch_normalization_4 (BatchNor (None, 127, 127, 128 512         conv2d_4[0][0]                   \n",
            "__________________________________________________________________________________________________\n",
            "add_12 (Add)                    (None, 127, 127, 128 0           block2_pool[0][0]                \n",
            "                                                                 batch_normalization_4[0][0]      \n",
            "__________________________________________________________________________________________________\n",
            "block3_sepconv1_act (Activation (None, 127, 127, 128 0           add_12[0][0]                     \n",
            "__________________________________________________________________________________________________\n",
            "block3_sepconv1 (SeparableConv2 (None, 127, 127, 256 33920       block3_sepconv1_act[0][0]        \n",
            "__________________________________________________________________________________________________\n",
            "block3_sepconv1_bn (BatchNormal (None, 127, 127, 256 1024        block3_sepconv1[0][0]            \n",
            "__________________________________________________________________________________________________\n",
            "block3_sepconv2_act (Activation (None, 127, 127, 256 0           block3_sepconv1_bn[0][0]         \n",
            "__________________________________________________________________________________________________\n",
            "block3_sepconv2 (SeparableConv2 (None, 127, 127, 256 67840       block3_sepconv2_act[0][0]        \n",
            "__________________________________________________________________________________________________\n",
            "block3_sepconv2_bn (BatchNormal (None, 127, 127, 256 1024        block3_sepconv2[0][0]            \n",
            "__________________________________________________________________________________________________\n",
            "conv2d_5 (Conv2D)               (None, 64, 64, 256)  32768       add_12[0][0]                     \n",
            "__________________________________________________________________________________________________\n",
            "block3_pool (MaxPooling2D)      (None, 64, 64, 256)  0           block3_sepconv2_bn[0][0]         \n",
            "__________________________________________________________________________________________________\n",
            "batch_normalization_5 (BatchNor (None, 64, 64, 256)  1024        conv2d_5[0][0]                   \n",
            "__________________________________________________________________________________________________\n",
            "add_13 (Add)                    (None, 64, 64, 256)  0           block3_pool[0][0]                \n",
            "                                                                 batch_normalization_5[0][0]      \n",
            "__________________________________________________________________________________________________\n",
            "block4_sepconv1_act (Activation (None, 64, 64, 256)  0           add_13[0][0]                     \n",
            "__________________________________________________________________________________________________\n",
            "block4_sepconv1 (SeparableConv2 (None, 64, 64, 728)  188672      block4_sepconv1_act[0][0]        \n",
            "__________________________________________________________________________________________________\n",
            "block4_sepconv1_bn (BatchNormal (None, 64, 64, 728)  2912        block4_sepconv1[0][0]            \n",
            "__________________________________________________________________________________________________\n",
            "block4_sepconv2_act (Activation (None, 64, 64, 728)  0           block4_sepconv1_bn[0][0]         \n",
            "__________________________________________________________________________________________________\n",
            "block4_sepconv2 (SeparableConv2 (None, 64, 64, 728)  536536      block4_sepconv2_act[0][0]        \n",
            "__________________________________________________________________________________________________\n",
            "block4_sepconv2_bn (BatchNormal (None, 64, 64, 728)  2912        block4_sepconv2[0][0]            \n",
            "__________________________________________________________________________________________________\n",
            "conv2d_6 (Conv2D)               (None, 32, 32, 728)  186368      add_13[0][0]                     \n",
            "__________________________________________________________________________________________________\n",
            "block4_pool (MaxPooling2D)      (None, 32, 32, 728)  0           block4_sepconv2_bn[0][0]         \n",
            "__________________________________________________________________________________________________\n",
            "batch_normalization_6 (BatchNor (None, 32, 32, 728)  2912        conv2d_6[0][0]                   \n",
            "__________________________________________________________________________________________________\n",
            "add_14 (Add)                    (None, 32, 32, 728)  0           block4_pool[0][0]                \n",
            "                                                                 batch_normalization_6[0][0]      \n",
            "__________________________________________________________________________________________________\n",
            "block5_sepconv1_act (Activation (None, 32, 32, 728)  0           add_14[0][0]                     \n",
            "__________________________________________________________________________________________________\n",
            "block5_sepconv1 (SeparableConv2 (None, 32, 32, 728)  536536      block5_sepconv1_act[0][0]        \n",
            "__________________________________________________________________________________________________\n",
            "block5_sepconv1_bn (BatchNormal (None, 32, 32, 728)  2912        block5_sepconv1[0][0]            \n",
            "__________________________________________________________________________________________________\n",
            "block5_sepconv2_act (Activation (None, 32, 32, 728)  0           block5_sepconv1_bn[0][0]         \n",
            "__________________________________________________________________________________________________\n",
            "block5_sepconv2 (SeparableConv2 (None, 32, 32, 728)  536536      block5_sepconv2_act[0][0]        \n",
            "__________________________________________________________________________________________________\n",
            "block5_sepconv2_bn (BatchNormal (None, 32, 32, 728)  2912        block5_sepconv2[0][0]            \n",
            "__________________________________________________________________________________________________\n",
            "block5_sepconv3_act (Activation (None, 32, 32, 728)  0           block5_sepconv2_bn[0][0]         \n",
            "__________________________________________________________________________________________________\n",
            "block5_sepconv3 (SeparableConv2 (None, 32, 32, 728)  536536      block5_sepconv3_act[0][0]        \n",
            "__________________________________________________________________________________________________\n",
            "block5_sepconv3_bn (BatchNormal (None, 32, 32, 728)  2912        block5_sepconv3[0][0]            \n",
            "__________________________________________________________________________________________________\n",
            "add_15 (Add)                    (None, 32, 32, 728)  0           block5_sepconv3_bn[0][0]         \n",
            "                                                                 add_14[0][0]                     \n",
            "__________________________________________________________________________________________________\n",
            "block6_sepconv1_act (Activation (None, 32, 32, 728)  0           add_15[0][0]                     \n",
            "__________________________________________________________________________________________________\n",
            "block6_sepconv1 (SeparableConv2 (None, 32, 32, 728)  536536      block6_sepconv1_act[0][0]        \n",
            "__________________________________________________________________________________________________\n",
            "block6_sepconv1_bn (BatchNormal (None, 32, 32, 728)  2912        block6_sepconv1[0][0]            \n",
            "__________________________________________________________________________________________________\n",
            "block6_sepconv2_act (Activation (None, 32, 32, 728)  0           block6_sepconv1_bn[0][0]         \n",
            "__________________________________________________________________________________________________\n",
            "block6_sepconv2 (SeparableConv2 (None, 32, 32, 728)  536536      block6_sepconv2_act[0][0]        \n",
            "__________________________________________________________________________________________________\n",
            "block6_sepconv2_bn (BatchNormal (None, 32, 32, 728)  2912        block6_sepconv2[0][0]            \n",
            "__________________________________________________________________________________________________\n",
            "block6_sepconv3_act (Activation (None, 32, 32, 728)  0           block6_sepconv2_bn[0][0]         \n",
            "__________________________________________________________________________________________________\n",
            "block6_sepconv3 (SeparableConv2 (None, 32, 32, 728)  536536      block6_sepconv3_act[0][0]        \n",
            "__________________________________________________________________________________________________\n",
            "block6_sepconv3_bn (BatchNormal (None, 32, 32, 728)  2912        block6_sepconv3[0][0]            \n",
            "__________________________________________________________________________________________________\n",
            "add_16 (Add)                    (None, 32, 32, 728)  0           block6_sepconv3_bn[0][0]         \n",
            "                                                                 add_15[0][0]                     \n",
            "__________________________________________________________________________________________________\n",
            "block7_sepconv1_act (Activation (None, 32, 32, 728)  0           add_16[0][0]                     \n",
            "__________________________________________________________________________________________________\n",
            "block7_sepconv1 (SeparableConv2 (None, 32, 32, 728)  536536      block7_sepconv1_act[0][0]        \n",
            "__________________________________________________________________________________________________\n",
            "block7_sepconv1_bn (BatchNormal (None, 32, 32, 728)  2912        block7_sepconv1[0][0]            \n",
            "__________________________________________________________________________________________________\n",
            "block7_sepconv2_act (Activation (None, 32, 32, 728)  0           block7_sepconv1_bn[0][0]         \n",
            "__________________________________________________________________________________________________\n",
            "block7_sepconv2 (SeparableConv2 (None, 32, 32, 728)  536536      block7_sepconv2_act[0][0]        \n",
            "__________________________________________________________________________________________________\n",
            "block7_sepconv2_bn (BatchNormal (None, 32, 32, 728)  2912        block7_sepconv2[0][0]            \n",
            "__________________________________________________________________________________________________\n",
            "block7_sepconv3_act (Activation (None, 32, 32, 728)  0           block7_sepconv2_bn[0][0]         \n",
            "__________________________________________________________________________________________________\n",
            "block7_sepconv3 (SeparableConv2 (None, 32, 32, 728)  536536      block7_sepconv3_act[0][0]        \n",
            "__________________________________________________________________________________________________\n",
            "block7_sepconv3_bn (BatchNormal (None, 32, 32, 728)  2912        block7_sepconv3[0][0]            \n",
            "__________________________________________________________________________________________________\n",
            "add_17 (Add)                    (None, 32, 32, 728)  0           block7_sepconv3_bn[0][0]         \n",
            "                                                                 add_16[0][0]                     \n",
            "__________________________________________________________________________________________________\n",
            "block8_sepconv1_act (Activation (None, 32, 32, 728)  0           add_17[0][0]                     \n",
            "__________________________________________________________________________________________________\n",
            "block8_sepconv1 (SeparableConv2 (None, 32, 32, 728)  536536      block8_sepconv1_act[0][0]        \n",
            "__________________________________________________________________________________________________\n",
            "block8_sepconv1_bn (BatchNormal (None, 32, 32, 728)  2912        block8_sepconv1[0][0]            \n",
            "__________________________________________________________________________________________________\n",
            "block8_sepconv2_act (Activation (None, 32, 32, 728)  0           block8_sepconv1_bn[0][0]         \n",
            "__________________________________________________________________________________________________\n",
            "block8_sepconv2 (SeparableConv2 (None, 32, 32, 728)  536536      block8_sepconv2_act[0][0]        \n",
            "__________________________________________________________________________________________________\n",
            "block8_sepconv2_bn (BatchNormal (None, 32, 32, 728)  2912        block8_sepconv2[0][0]            \n",
            "__________________________________________________________________________________________________\n",
            "block8_sepconv3_act (Activation (None, 32, 32, 728)  0           block8_sepconv2_bn[0][0]         \n",
            "__________________________________________________________________________________________________\n",
            "block8_sepconv3 (SeparableConv2 (None, 32, 32, 728)  536536      block8_sepconv3_act[0][0]        \n",
            "__________________________________________________________________________________________________\n",
            "block8_sepconv3_bn (BatchNormal (None, 32, 32, 728)  2912        block8_sepconv3[0][0]            \n",
            "__________________________________________________________________________________________________\n",
            "add_18 (Add)                    (None, 32, 32, 728)  0           block8_sepconv3_bn[0][0]         \n",
            "                                                                 add_17[0][0]                     \n",
            "__________________________________________________________________________________________________\n",
            "block9_sepconv1_act (Activation (None, 32, 32, 728)  0           add_18[0][0]                     \n",
            "__________________________________________________________________________________________________\n",
            "block9_sepconv1 (SeparableConv2 (None, 32, 32, 728)  536536      block9_sepconv1_act[0][0]        \n",
            "__________________________________________________________________________________________________\n",
            "block9_sepconv1_bn (BatchNormal (None, 32, 32, 728)  2912        block9_sepconv1[0][0]            \n",
            "__________________________________________________________________________________________________\n",
            "block9_sepconv2_act (Activation (None, 32, 32, 728)  0           block9_sepconv1_bn[0][0]         \n",
            "__________________________________________________________________________________________________\n",
            "block9_sepconv2 (SeparableConv2 (None, 32, 32, 728)  536536      block9_sepconv2_act[0][0]        \n",
            "__________________________________________________________________________________________________\n",
            "block9_sepconv2_bn (BatchNormal (None, 32, 32, 728)  2912        block9_sepconv2[0][0]            \n",
            "__________________________________________________________________________________________________\n",
            "block9_sepconv3_act (Activation (None, 32, 32, 728)  0           block9_sepconv2_bn[0][0]         \n",
            "__________________________________________________________________________________________________\n",
            "block9_sepconv3 (SeparableConv2 (None, 32, 32, 728)  536536      block9_sepconv3_act[0][0]        \n",
            "__________________________________________________________________________________________________\n",
            "block9_sepconv3_bn (BatchNormal (None, 32, 32, 728)  2912        block9_sepconv3[0][0]            \n",
            "__________________________________________________________________________________________________\n",
            "add_19 (Add)                    (None, 32, 32, 728)  0           block9_sepconv3_bn[0][0]         \n",
            "                                                                 add_18[0][0]                     \n",
            "__________________________________________________________________________________________________\n",
            "block10_sepconv1_act (Activatio (None, 32, 32, 728)  0           add_19[0][0]                     \n",
            "__________________________________________________________________________________________________\n",
            "block10_sepconv1 (SeparableConv (None, 32, 32, 728)  536536      block10_sepconv1_act[0][0]       \n",
            "__________________________________________________________________________________________________\n",
            "block10_sepconv1_bn (BatchNorma (None, 32, 32, 728)  2912        block10_sepconv1[0][0]           \n",
            "__________________________________________________________________________________________________\n",
            "block10_sepconv2_act (Activatio (None, 32, 32, 728)  0           block10_sepconv1_bn[0][0]        \n",
            "__________________________________________________________________________________________________\n",
            "block10_sepconv2 (SeparableConv (None, 32, 32, 728)  536536      block10_sepconv2_act[0][0]       \n",
            "__________________________________________________________________________________________________\n",
            "block10_sepconv2_bn (BatchNorma (None, 32, 32, 728)  2912        block10_sepconv2[0][0]           \n",
            "__________________________________________________________________________________________________\n",
            "block10_sepconv3_act (Activatio (None, 32, 32, 728)  0           block10_sepconv2_bn[0][0]        \n",
            "__________________________________________________________________________________________________\n",
            "block10_sepconv3 (SeparableConv (None, 32, 32, 728)  536536      block10_sepconv3_act[0][0]       \n",
            "__________________________________________________________________________________________________\n",
            "block10_sepconv3_bn (BatchNorma (None, 32, 32, 728)  2912        block10_sepconv3[0][0]           \n",
            "__________________________________________________________________________________________________\n",
            "add_20 (Add)                    (None, 32, 32, 728)  0           block10_sepconv3_bn[0][0]        \n",
            "                                                                 add_19[0][0]                     \n",
            "__________________________________________________________________________________________________\n",
            "block11_sepconv1_act (Activatio (None, 32, 32, 728)  0           add_20[0][0]                     \n",
            "__________________________________________________________________________________________________\n",
            "block11_sepconv1 (SeparableConv (None, 32, 32, 728)  536536      block11_sepconv1_act[0][0]       \n",
            "__________________________________________________________________________________________________\n",
            "block11_sepconv1_bn (BatchNorma (None, 32, 32, 728)  2912        block11_sepconv1[0][0]           \n",
            "__________________________________________________________________________________________________\n",
            "block11_sepconv2_act (Activatio (None, 32, 32, 728)  0           block11_sepconv1_bn[0][0]        \n",
            "__________________________________________________________________________________________________\n",
            "block11_sepconv2 (SeparableConv (None, 32, 32, 728)  536536      block11_sepconv2_act[0][0]       \n",
            "__________________________________________________________________________________________________\n",
            "block11_sepconv2_bn (BatchNorma (None, 32, 32, 728)  2912        block11_sepconv2[0][0]           \n",
            "__________________________________________________________________________________________________\n",
            "block11_sepconv3_act (Activatio (None, 32, 32, 728)  0           block11_sepconv2_bn[0][0]        \n",
            "__________________________________________________________________________________________________\n",
            "block11_sepconv3 (SeparableConv (None, 32, 32, 728)  536536      block11_sepconv3_act[0][0]       \n",
            "__________________________________________________________________________________________________\n",
            "block11_sepconv3_bn (BatchNorma (None, 32, 32, 728)  2912        block11_sepconv3[0][0]           \n",
            "__________________________________________________________________________________________________\n",
            "add_21 (Add)                    (None, 32, 32, 728)  0           block11_sepconv3_bn[0][0]        \n",
            "                                                                 add_20[0][0]                     \n",
            "__________________________________________________________________________________________________\n",
            "block12_sepconv1_act (Activatio (None, 32, 32, 728)  0           add_21[0][0]                     \n",
            "__________________________________________________________________________________________________\n",
            "block12_sepconv1 (SeparableConv (None, 32, 32, 728)  536536      block12_sepconv1_act[0][0]       \n",
            "__________________________________________________________________________________________________\n",
            "block12_sepconv1_bn (BatchNorma (None, 32, 32, 728)  2912        block12_sepconv1[0][0]           \n",
            "__________________________________________________________________________________________________\n",
            "block12_sepconv2_act (Activatio (None, 32, 32, 728)  0           block12_sepconv1_bn[0][0]        \n",
            "__________________________________________________________________________________________________\n",
            "block12_sepconv2 (SeparableConv (None, 32, 32, 728)  536536      block12_sepconv2_act[0][0]       \n",
            "__________________________________________________________________________________________________\n",
            "block12_sepconv2_bn (BatchNorma (None, 32, 32, 728)  2912        block12_sepconv2[0][0]           \n",
            "__________________________________________________________________________________________________\n",
            "block12_sepconv3_act (Activatio (None, 32, 32, 728)  0           block12_sepconv2_bn[0][0]        \n",
            "__________________________________________________________________________________________________\n",
            "block12_sepconv3 (SeparableConv (None, 32, 32, 728)  536536      block12_sepconv3_act[0][0]       \n",
            "__________________________________________________________________________________________________\n",
            "block12_sepconv3_bn (BatchNorma (None, 32, 32, 728)  2912        block12_sepconv3[0][0]           \n",
            "__________________________________________________________________________________________________\n",
            "add_22 (Add)                    (None, 32, 32, 728)  0           block12_sepconv3_bn[0][0]        \n",
            "                                                                 add_21[0][0]                     \n",
            "__________________________________________________________________________________________________\n",
            "block13_sepconv1_act (Activatio (None, 32, 32, 728)  0           add_22[0][0]                     \n",
            "__________________________________________________________________________________________________\n",
            "block13_sepconv1 (SeparableConv (None, 32, 32, 728)  536536      block13_sepconv1_act[0][0]       \n",
            "__________________________________________________________________________________________________\n",
            "block13_sepconv1_bn (BatchNorma (None, 32, 32, 728)  2912        block13_sepconv1[0][0]           \n",
            "__________________________________________________________________________________________________\n",
            "block13_sepconv2_act (Activatio (None, 32, 32, 728)  0           block13_sepconv1_bn[0][0]        \n",
            "__________________________________________________________________________________________________\n",
            "block13_sepconv2 (SeparableConv (None, 32, 32, 1024) 752024      block13_sepconv2_act[0][0]       \n",
            "__________________________________________________________________________________________________\n",
            "block13_sepconv2_bn (BatchNorma (None, 32, 32, 1024) 4096        block13_sepconv2[0][0]           \n",
            "__________________________________________________________________________________________________\n",
            "conv2d_7 (Conv2D)               (None, 16, 16, 1024) 745472      add_22[0][0]                     \n",
            "__________________________________________________________________________________________________\n",
            "block13_pool (MaxPooling2D)     (None, 16, 16, 1024) 0           block13_sepconv2_bn[0][0]        \n",
            "__________________________________________________________________________________________________\n",
            "batch_normalization_7 (BatchNor (None, 16, 16, 1024) 4096        conv2d_7[0][0]                   \n",
            "__________________________________________________________________________________________________\n",
            "add_23 (Add)                    (None, 16, 16, 1024) 0           block13_pool[0][0]               \n",
            "                                                                 batch_normalization_7[0][0]      \n",
            "__________________________________________________________________________________________________\n",
            "block14_sepconv1 (SeparableConv (None, 16, 16, 1536) 1582080     add_23[0][0]                     \n",
            "__________________________________________________________________________________________________\n",
            "block14_sepconv1_bn (BatchNorma (None, 16, 16, 1536) 6144        block14_sepconv1[0][0]           \n",
            "__________________________________________________________________________________________________\n",
            "block14_sepconv1_act (Activatio (None, 16, 16, 1536) 0           block14_sepconv1_bn[0][0]        \n",
            "__________________________________________________________________________________________________\n",
            "block14_sepconv2 (SeparableConv (None, 16, 16, 2048) 3159552     block14_sepconv1_act[0][0]       \n",
            "__________________________________________________________________________________________________\n",
            "block14_sepconv2_bn (BatchNorma (None, 16, 16, 2048) 8192        block14_sepconv2[0][0]           \n",
            "__________________________________________________________________________________________________\n",
            "block14_sepconv2_act (Activatio (None, 16, 16, 2048) 0           block14_sepconv2_bn[0][0]        \n",
            "__________________________________________________________________________________________________\n",
            "flatten_4 (Flatten)             (None, 524288)       0           block14_sepconv2_act[0][0]       \n",
            "__________________________________________________________________________________________________\n",
            "dense_12 (Dense)                (None, 256)          134217984   flatten_4[0][0]                  \n",
            "__________________________________________________________________________________________________\n",
            "dropout_8 (Dropout)             (None, 256)          0           dense_12[0][0]                   \n",
            "__________________________________________________________________________________________________\n",
            "dense_13 (Dense)                (None, 128)          32896       dropout_8[0][0]                  \n",
            "__________________________________________________________________________________________________\n",
            "dropout_9 (Dropout)             (None, 128)          0           dense_13[0][0]                   \n",
            "__________________________________________________________________________________________________\n",
            "dense_14 (Dense)                (None, 2)            258         dropout_9[0][0]                  \n",
            "==================================================================================================\n",
            "Total params: 155,112,618\n",
            "Trainable params: 137,417,858\n",
            "Non-trainable params: 17,694,760\n",
            "__________________________________________________________________________________________________\n"
          ],
          "name": "stdout"
        }
      ]
    },
    {
      "cell_type": "markdown",
      "metadata": {
        "id": "kEVUSZE4Qjhd"
      },
      "source": [
        "**VGG19-Xcpetion-Average**"
      ],
      "id": "kEVUSZE4Qjhd"
    },
    {
      "cell_type": "code",
      "metadata": {
        "id": "6I_rhTgujkW7"
      },
      "source": [
        "import tensorflow as tf\n",
        "models = [model_x,model_vgg]\n",
        "model_input = tf.keras.Input(shape=(512, 512, 3))\n",
        "model_outputs = [model(model_input) for model in models]\n",
        "ensemble_output = tf.keras.layers.Average()(model_outputs)\n",
        "ensemble_model = tf.keras.models.Model(inputs=model_input, outputs=ensemble_output, name='ensemble')"
      ],
      "id": "6I_rhTgujkW7",
      "execution_count": null,
      "outputs": []
    },
    {
      "cell_type": "code",
      "metadata": {
        "colab": {
          "base_uri": "https://localhost:8080/"
        },
        "id": "FuWBS_8HkFQv",
        "outputId": "e63b6f73-701d-4814-bd5a-3aaff9d98f30"
      },
      "source": [
        "ensemble_model.summary()"
      ],
      "id": "FuWBS_8HkFQv",
      "execution_count": null,
      "outputs": [
        {
          "output_type": "stream",
          "text": [
            "Model: \"ensemble\"\n",
            "__________________________________________________________________________________________________\n",
            "Layer (type)                    Output Shape         Param #     Connected to                     \n",
            "==================================================================================================\n",
            "input_6 (InputLayer)            [(None, 512, 512, 3) 0                                            \n",
            "__________________________________________________________________________________________________\n",
            "model_4 (Functional)            (None, 2)            155112618   input_6[0][0]                    \n",
            "__________________________________________________________________________________________________\n",
            "model_3 (Functional)            (None, 2)            53612226    input_6[0][0]                    \n",
            "__________________________________________________________________________________________________\n",
            "average_1 (Average)             (None, 2)            0           model_4[0][0]                    \n",
            "                                                                 model_3[0][0]                    \n",
            "==================================================================================================\n",
            "Total params: 208,724,844\n",
            "Trainable params: 175,725,316\n",
            "Non-trainable params: 32,999,528\n",
            "__________________________________________________________________________________________________\n"
          ],
          "name": "stdout"
        }
      ]
    },
    {
      "cell_type": "code",
      "metadata": {
        "id": "ea9b07a5"
      },
      "source": [
        "adam = Adam(learning_rate=0.0001)\n",
        "ensemble_model.compile(loss='categorical_crossentropy',optimizer = adam,metrics=['accuracy'])"
      ],
      "id": "ea9b07a5",
      "execution_count": null,
      "outputs": []
    },
    {
      "cell_type": "code",
      "metadata": {
        "colab": {
          "base_uri": "https://localhost:8080/",
          "height": 312
        },
        "id": "pxGH0aDkleTT",
        "outputId": "1795b7fa-5160-42df-bbd3-f7367abfaec0"
      },
      "source": [
        "tf.keras.utils.plot_model(ensemble_model, 'model.png', show_shapes= True)"
      ],
      "id": "pxGH0aDkleTT",
      "execution_count": null,
      "outputs": [
        {
          "output_type": "execute_result",
          "data": {
            "image/png": "[encoded data removed]",
            "text/plain": [
              "<IPython.core.display.Image object>"
            ]
          },
          "metadata": {
            "tags": []
          },
          "execution_count": 68
        }
      ]
    },
    {
      "cell_type": "code",
      "metadata": {
        "id": "-w2DDD4ilrwy"
      },
      "source": [
        "from tensorflow.keras.callbacks import ModelCheckpoint"
      ],
      "id": "-w2DDD4ilrwy",
      "execution_count": null,
      "outputs": []
    },
    {
      "cell_type": "code",
      "metadata": {
        "id": "cc101c81"
      },
      "source": [
        "filepath=\"parkinsons_detection_ensemble.hdf5\"\n",
        "checkpoint = ModelCheckpoint(filepath, monitor='val_loss', verbose=2, save_best_only=True, mode='min',patience=5)\n",
        "callbacks_list = [checkpoint]"
      ],
      "id": "cc101c81",
      "execution_count": null,
      "outputs": []
    },
    {
      "cell_type": "markdown",
      "metadata": {
        "id": "faRsHSk8Q3Xe"
      },
      "source": [
        "**Model-Training**"
      ],
      "id": "faRsHSk8Q3Xe"
    },
    {
      "cell_type": "code",
      "metadata": {
        "colab": {
          "base_uri": "https://localhost:8080/"
        },
        "id": "lD4MiJ9BkN9g",
        "outputId": "f48ef4cc-34c1-4e93-efcc-994bbc422633"
      },
      "source": [
        "hist = ensemble_model.fit(x_train,y_train,\n",
        "                    shuffle = True,\n",
        "                    batch_size=32,\n",
        "                    epochs = 25,\n",
        "                    validation_split = 0.10,callbacks=callbacks_list)"
      ],
      "id": "lD4MiJ9BkN9g",
      "execution_count": null,
      "outputs": [
        {
          "output_type": "stream",
          "text": [
            "Epoch 1/25\n",
            "30/30 [==============================] - 111s 2s/step - loss: 10.3162 - accuracy: 0.5673 - val_loss: 7.4399 - val_accuracy: 0.3654\n",
            "\n",
            "Epoch 00001: val_loss improved from inf to 7.43994, saving model to parkinsons_detection_ensemble.hdf5\n"
          ],
          "name": "stdout"
        },
        {
          "output_type": "stream",
          "text": [
            "/usr/local/lib/python3.7/dist-packages/tensorflow/python/keras/utils/generic_utils.py:497: CustomMaskWarning: Custom mask layers require a config and must override get_config. When loading, the custom mask layer must be passed to the custom_objects argument.\n",
            "  category=CustomMaskWarning)\n"
          ],
          "name": "stderr"
        },
        {
          "output_type": "stream",
          "text": [
            "Epoch 2/25\n",
            "30/30 [==============================] - 51s 2s/step - loss: 6.5461 - accuracy: 0.5321 - val_loss: 5.7870 - val_accuracy: 0.9615\n",
            "\n",
            "Epoch 00002: val_loss improved from 7.43994 to 5.78704, saving model to parkinsons_detection_ensemble.hdf5\n",
            "Epoch 3/25\n",
            "30/30 [==============================] - 51s 2s/step - loss: 5.4091 - accuracy: 0.5641 - val_loss: 5.0706 - val_accuracy: 0.9135\n",
            "\n",
            "Epoch 00003: val_loss improved from 5.78704 to 5.07061, saving model to parkinsons_detection_ensemble.hdf5\n",
            "Epoch 4/25\n",
            "30/30 [==============================] - 51s 2s/step - loss: 4.9063 - accuracy: 0.5662 - val_loss: 4.6739 - val_accuracy: 0.8846\n",
            "\n",
            "Epoch 00004: val_loss improved from 5.07061 to 4.67390, saving model to parkinsons_detection_ensemble.hdf5\n",
            "Epoch 5/25\n",
            "30/30 [==============================] - 50s 2s/step - loss: 4.5024 - accuracy: 0.5748 - val_loss: 4.3365 - val_accuracy: 1.0000\n",
            "\n",
            "Epoch 00005: val_loss improved from 4.67390 to 4.33650, saving model to parkinsons_detection_ensemble.hdf5\n",
            "Epoch 6/25\n",
            "30/30 [==============================] - 51s 2s/step - loss: 4.1687 - accuracy: 0.5897 - val_loss: 4.0728 - val_accuracy: 0.8077\n",
            "\n",
            "Epoch 00006: val_loss improved from 4.33650 to 4.07283, saving model to parkinsons_detection_ensemble.hdf5\n",
            "Epoch 7/25\n",
            "30/30 [==============================] - 51s 2s/step - loss: 3.9049 - accuracy: 0.6635 - val_loss: 3.8053 - val_accuracy: 0.8750\n",
            "\n",
            "Epoch 00007: val_loss improved from 4.07283 to 3.80527, saving model to parkinsons_detection_ensemble.hdf5\n",
            "Epoch 8/25\n",
            "30/30 [==============================] - 51s 2s/step - loss: 3.6516 - accuracy: 0.6934 - val_loss: 3.6154 - val_accuracy: 0.6154\n",
            "\n",
            "Epoch 00008: val_loss improved from 3.80527 to 3.61545, saving model to parkinsons_detection_ensemble.hdf5\n",
            "Epoch 9/25\n",
            "30/30 [==============================] - 51s 2s/step - loss: 3.4637 - accuracy: 0.7083 - val_loss: 3.3962 - val_accuracy: 0.7308\n",
            "\n",
            "Epoch 00009: val_loss improved from 3.61545 to 3.39625, saving model to parkinsons_detection_ensemble.hdf5\n",
            "Epoch 10/25\n",
            "30/30 [==============================] - 51s 2s/step - loss: 3.2483 - accuracy: 0.7927 - val_loss: 3.0474 - val_accuracy: 0.9615\n",
            "\n",
            "Epoch 00010: val_loss improved from 3.39625 to 3.04742, saving model to parkinsons_detection_ensemble.hdf5\n",
            "Epoch 11/25\n",
            "30/30 [==============================] - 50s 2s/step - loss: 3.0982 - accuracy: 0.7821 - val_loss: 3.1518 - val_accuracy: 0.6346\n",
            "\n",
            "Epoch 00011: val_loss did not improve from 3.04742\n",
            "Epoch 12/25\n",
            "30/30 [==============================] - 52s 2s/step - loss: 2.9600 - accuracy: 0.8269 - val_loss: 2.8551 - val_accuracy: 0.8750\n",
            "\n",
            "Epoch 00012: val_loss improved from 3.04742 to 2.85512, saving model to parkinsons_detection_ensemble.hdf5\n",
            "Epoch 13/25\n",
            "30/30 [==============================] - 52s 2s/step - loss: 2.7862 - accuracy: 0.9124 - val_loss: 2.7791 - val_accuracy: 0.8269\n",
            "\n",
            "Epoch 00013: val_loss improved from 2.85512 to 2.77914, saving model to parkinsons_detection_ensemble.hdf5\n",
            "Epoch 14/25\n",
            "30/30 [==============================] - 51s 2s/step - loss: 2.6559 - accuracy: 0.9306 - val_loss: 2.6029 - val_accuracy: 0.9135\n",
            "\n",
            "Epoch 00014: val_loss improved from 2.77914 to 2.60286, saving model to parkinsons_detection_ensemble.hdf5\n",
            "Epoch 15/25\n",
            "30/30 [==============================] - 51s 2s/step - loss: 2.5227 - accuracy: 0.9423 - val_loss: 2.5733 - val_accuracy: 0.9135\n",
            "\n",
            "Epoch 00015: val_loss improved from 2.60286 to 2.57334, saving model to parkinsons_detection_ensemble.hdf5\n",
            "Epoch 16/25\n",
            "30/30 [==============================] - 51s 2s/step - loss: 2.3579 - accuracy: 0.9466 - val_loss: 2.4192 - val_accuracy: 0.9135\n",
            "\n",
            "Epoch 00016: val_loss improved from 2.57334 to 2.41917, saving model to parkinsons_detection_ensemble.hdf5\n",
            "Epoch 17/25\n",
            "30/30 [==============================] - 57s 2s/step - loss: 2.1758 - accuracy: 0.9519 - val_loss: 2.1350 - val_accuracy: 0.9423\n",
            "\n",
            "Epoch 00017: val_loss improved from 2.41917 to 2.13501, saving model to parkinsons_detection_ensemble.hdf5\n",
            "Epoch 18/25\n",
            "30/30 [==============================] - 58s 2s/step - loss: 2.1107 - accuracy: 0.9391 - val_loss: 2.0263 - val_accuracy: 0.9231\n",
            "\n",
            "Epoch 00018: val_loss improved from 2.13501 to 2.02628, saving model to parkinsons_detection_ensemble.hdf5\n",
            "Epoch 19/25\n",
            "30/30 [==============================] - 57s 2s/step - loss: 2.0177 - accuracy: 0.9509 - val_loss: 2.7233 - val_accuracy: 0.6731\n",
            "\n",
            "Epoch 00019: val_loss did not improve from 2.02628\n",
            "Epoch 20/25\n",
            "30/30 [==============================] - 56s 2s/step - loss: 1.9381 - accuracy: 0.9679 - val_loss: 2.4246 - val_accuracy: 0.8846\n",
            "\n",
            "Epoch 00020: val_loss did not improve from 2.02628\n",
            "Epoch 21/25\n",
            "30/30 [==============================] - 56s 2s/step - loss: 1.8178 - accuracy: 0.9808 - val_loss: 2.1788 - val_accuracy: 0.8942\n",
            "\n",
            "Epoch 00021: val_loss did not improve from 2.02628\n",
            "Epoch 22/25\n",
            "30/30 [==============================] - 56s 2s/step - loss: 1.7154 - accuracy: 0.9872 - val_loss: 3.1095 - val_accuracy: 0.7308\n",
            "\n",
            "Epoch 00022: val_loss did not improve from 2.02628\n",
            "Epoch 23/25\n",
            "30/30 [==============================] - 55s 2s/step - loss: 1.6575 - accuracy: 0.9840 - val_loss: 2.5308 - val_accuracy: 0.7981\n",
            "\n",
            "Epoch 00023: val_loss did not improve from 2.02628\n",
            "Epoch 24/25\n",
            "30/30 [==============================] - 55s 2s/step - loss: 1.5891 - accuracy: 0.9893 - val_loss: 2.0999 - val_accuracy: 0.9327\n",
            "\n",
            "Epoch 00024: val_loss did not improve from 2.02628\n",
            "Epoch 25/25\n",
            "30/30 [==============================] - 55s 2s/step - loss: 1.4961 - accuracy: 0.9979 - val_loss: 1.8485 - val_accuracy: 0.9423\n",
            "\n",
            "Epoch 00025: val_loss improved from 2.02628 to 1.84847, saving model to parkinsons_detection_ensemble.hdf5\n"
          ],
          "name": "stdout"
        }
      ]
    },
    {
      "cell_type": "code",
      "metadata": {
        "id": "b2d16b5a",
        "colab": {
          "base_uri": "https://localhost:8080/",
          "height": 350
        },
        "outputId": "5590013d-f760-4ab5-c773-30055154c203"
      },
      "source": [
        "plt.figure(1, figsize = (15, 5))\n",
        "plt.subplot(1,2,1)\n",
        "plt.xlabel(\"Epochs\")\n",
        "plt.ylabel(\"Loss\")\n",
        "plt.plot( hist.history[\"loss\"], label = \"Training Loss\")\n",
        "plt.plot( hist.history[\"val_loss\"], label = \"Validation Loss\")\n",
        "plt.grid(True)\n",
        "plt.legend()\n",
        "\n",
        "plt.subplot(1,2,2)\n",
        "plt.xlabel(\"Epochs\")\n",
        "plt.ylabel(\"Accuracy\")\n",
        "plt.plot( hist.history[\"accuracy\"], label = \"Training Accuracy\")\n",
        "plt.plot( hist.history[\"val_accuracy\"], label = \"Validation Accuracy\")\n",
        "plt.grid(True)\n",
        "plt.legend()"
      ],
      "id": "b2d16b5a",
      "execution_count": null,
      "outputs": [
        {
          "output_type": "execute_result",
          "data": {
            "text/plain": [
              "<matplotlib.legend.Legend at 0x7fdaf6055450>"
            ]
          },
          "metadata": {
            "tags": []
          },
          "execution_count": 73
        },
        {
          "output_type": "display_data",
          "data": {
            "image/png": "[encoded data removed]",
            "text/plain": [
              "<Figure size 1080x360 with 2 Axes>"
            ]
          },
          "metadata": {
            "tags": [],
            "needs_background": "light"
          }
        }
      ]
    },
    {
      "cell_type": "code",
      "metadata": {
        "colab": {
          "base_uri": "https://localhost:8080/"
        },
        "id": "R1g7vdZVu-8-",
        "outputId": "4b2f2d93-250c-43fa-b954-6664b2c96165"
      },
      "source": [
        "test_images = \"/content/drive/MyDrive/parkinsons t2/test\"\n",
        "\n",
        "test_image_data = []\n",
        "test_labels = []\n",
        "\n",
        "test_folders = os.listdir(test_images)\n",
        "print(test_folders)\n",
        "\n",
        "label_dict = {\n",
        "    'control':0,\n",
        "    'pd':1\n",
        "}\n",
        "\n",
        "from keras.preprocessing import image\n",
        "\n",
        "for ix in test_folders:\n",
        "    path = os.path.join(test_images,ix)\n",
        "    for im in os.listdir(path):\n",
        "        img = image.load_img(os.path.join(path,im),target_size = ((512,512)))\n",
        "        img_array = image.img_to_array(img)\n",
        "        test_image_data.append(img_array)\n",
        "        test_labels.append(label_dict[ix])\n",
        "        \n",
        "\n",
        "combined = list(zip(test_image_data,test_labels))\n",
        "test_image_data[:],test_labels[:] = zip(*combined)\n",
        "\n",
        "x_test = np.array(test_image_data)\n",
        "y_test = np.array(test_labels)\n",
        "\n",
        "from keras.utils import np_utils\n",
        "\n",
        "y_test = np_utils.to_categorical(y_test)\n",
        "print(x_test.shape,y_test.shape)\n",
        "    "
      ],
      "id": "R1g7vdZVu-8-",
      "execution_count": null,
      "outputs": [
        {
          "output_type": "stream",
          "text": [
            "['pd', 'control']\n",
            "(100, 512, 512, 3) (100, 2)\n"
          ],
          "name": "stdout"
        }
      ]
    },
    {
      "cell_type": "code",
      "metadata": {
        "colab": {
          "base_uri": "https://localhost:8080/"
        },
        "id": "xENgCvC3vDqJ",
        "outputId": "3172df73-6b4c-4cd8-bcd6-80206c65bd1b"
      },
      "source": [
        "ensemble_model.evaluate(x_test,y_test)"
      ],
      "id": "xENgCvC3vDqJ",
      "execution_count": null,
      "outputs": [
        {
          "output_type": "stream",
          "text": [
            "4/4 [==============================] - 10s 3s/step - loss: 2.6410 - accuracy: 0.8700\n"
          ],
          "name": "stdout"
        },
        {
          "output_type": "execute_result",
          "data": {
            "text/plain": [
              "[2.6410446166992188, 0.8700000047683716]"
            ]
          },
          "metadata": {
            "tags": []
          },
          "execution_count": 75
        }
      ]
    },
    {
      "cell_type": "code",
      "metadata": {
        "id": "MIuSN6_1WI-j"
      },
      "source": [
        "from sklearn.metrics import classification_report,confusion_matrix"
      ],
      "id": "MIuSN6_1WI-j",
      "execution_count": null,
      "outputs": []
    },
    {
      "cell_type": "code",
      "metadata": {
        "id": "aNtQsFSBuq_E"
      },
      "source": [
        "predictions = ensemble_model.predict(x_test, batch_size = 32)\n",
        "pred = np.argmax(predictions, axis=1)"
      ],
      "id": "aNtQsFSBuq_E",
      "execution_count": null,
      "outputs": []
    },
    {
      "cell_type": "code",
      "metadata": {
        "id": "idNufRqZYdol",
        "colab": {
          "base_uri": "https://localhost:8080/"
        },
        "outputId": "76429852-e401-42a1-cbfd-31663bf43034"
      },
      "source": [
        "print(classification_report(test_labels, pred))"
      ],
      "id": "idNufRqZYdol",
      "execution_count": null,
      "outputs": [
        {
          "output_type": "stream",
          "text": [
            "              precision    recall  f1-score   support\n",
            "\n",
            "           0       0.79      1.00      0.88        50\n",
            "           1       1.00      0.74      0.85        50\n",
            "\n",
            "    accuracy                           0.87       100\n",
            "   macro avg       0.90      0.87      0.87       100\n",
            "weighted avg       0.90      0.87      0.87       100\n",
            "\n"
          ],
          "name": "stdout"
        }
      ]
    },
    {
      "cell_type": "code",
      "metadata": {
        "id": "7Cqpbm85rXqP",
        "colab": {
          "base_uri": "https://localhost:8080/"
        },
        "outputId": "456474a7-61fd-4f93-86c0-39b12b6ae946"
      },
      "source": [
        "print(confusion_matrix(test_labels, pred))"
      ],
      "id": "7Cqpbm85rXqP",
      "execution_count": null,
      "outputs": [
        {
          "output_type": "stream",
          "text": [
            "[[50  0]\n",
            " [13 37]]\n"
          ],
          "name": "stdout"
        }
      ]
    },
    {
      "cell_type": "code",
      "metadata": {
        "id": "owipfE6UMHxt"
      },
      "source": [
        ""
      ],
      "id": "owipfE6UMHxt",
      "execution_count": null,
      "outputs": []
    }
  ]
}